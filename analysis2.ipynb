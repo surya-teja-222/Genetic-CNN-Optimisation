{
 "cells": [
  {
   "cell_type": "code",
   "execution_count": 1,
   "metadata": {},
   "outputs": [],
   "source": [
    "import numpy as np\n",
    "import pandas as pd\n",
    "import matplotlib.pyplot as plt\n",
    "import seaborn as sns\n",
    "import json"
   ]
  },
  {
   "cell_type": "code",
   "execution_count": 9,
   "metadata": {},
   "outputs": [],
   "source": [
    "import tensorflow as tf\n",
    "from tensorflow import keras\n",
    "\n",
    "from tensorflow.keras.layers import *\n",
    "from tensorflow.keras.models import *"
   ]
  },
  {
   "cell_type": "code",
   "execution_count": 3,
   "metadata": {},
   "outputs": [],
   "source": [
    "# mutated chromosomes\n",
    "chromosomes = None\n",
    "with open('chromosomes/new_cromosomes_mutated.json') as f:\n",
    "    chromosomes = json.load(f)"
   ]
  },
  {
   "cell_type": "code",
   "execution_count": 4,
   "metadata": {},
   "outputs": [],
   "source": [
    "for key, value in chromosomes.items():\n",
    "    chromosomes[key].append(chromosomes[key][0].count(0))\n",
    "    chromosomes[key].append(chromosomes[key][0].count(1))\n",
    "    chromosomes[key][1] = chromosomes[key][1]*100"
   ]
  },
  {
   "cell_type": "code",
   "execution_count": 5,
   "metadata": {},
   "outputs": [],
   "source": [
    "# sort based on number of 0s\n",
    "chromosomes = {k: v for k, v in sorted(chromosomes.items(), key=lambda item: (item[1][2]), reverse=True)}"
   ]
  },
  {
   "cell_type": "code",
   "execution_count": 10,
   "metadata": {},
   "outputs": [],
   "source": [
    "original_model =  Sequential([\n",
    "\n",
    "    Conv2D(64, 3,padding='same', input_shape=(100,100,3), activation='relu'),\n",
    "    MaxPooling2D(),\n",
    "    Conv2D(32, 3,padding='same', activation='relu'),\n",
    "    MaxPooling2D(),\n",
    "    Conv2D(64, 3,padding='same', activation='relu'),\n",
    "    MaxPooling2D(),\n",
    "    Conv2D(32, 3,padding='same', activation='relu'),\n",
    "    MaxPooling2D(),\n",
    "    Flatten(),\n",
    "    Dense(128, activation='relu'),\n",
    "    Dense(1, activation='sigmoid')\n",
    "])"
   ]
  },
  {
   "cell_type": "code",
   "execution_count": 7,
   "metadata": {},
   "outputs": [],
   "source": [
    "from test_train_data import x_train, y_train, x_test, y_test"
   ]
  },
  {
   "cell_type": "code",
   "execution_count": 11,
   "metadata": {},
   "outputs": [],
   "source": [
    "original_model.compile(optimizer='adam', loss='binary_crossentropy', metrics=['accuracy', 'Precision','Recall'])"
   ]
  },
  {
   "cell_type": "code",
   "execution_count": 12,
   "metadata": {},
   "outputs": [
    {
     "name": "stdout",
     "output_type": "stream",
     "text": [
      "Epoch 1/10\n"
     ]
    },
    {
     "name": "stderr",
     "output_type": "stream",
     "text": [
      "2023-03-09 19:15:10.925650: I tensorflow/compiler/xla/stream_executor/cuda/cuda_dnn.cc:428] Loaded cuDNN version 8700\n",
      "2023-03-09 19:15:11.157874: I tensorflow/compiler/xla/service/service.cc:173] XLA service 0x7f2f089982c0 initialized for platform CUDA (this does not guarantee that XLA will be used). Devices:\n",
      "2023-03-09 19:15:11.157936: I tensorflow/compiler/xla/service/service.cc:181]   StreamExecutor device (0): Tesla V100-SXM2-16GB, Compute Capability 7.0\n",
      "2023-03-09 19:15:11.164984: I tensorflow/compiler/mlir/tensorflow/utils/dump_mlir_util.cc:268] disabling MLIR crash reproducer, set env var `MLIR_CRASH_REPRODUCER_DIRECTORY` to enable.\n",
      "2023-03-09 19:15:11.307294: I tensorflow/compiler/jit/xla_compilation_cache.cc:480] Compiled cluster using XLA!  This line is logged at most once for the lifetime of the process.\n"
     ]
    },
    {
     "name": "stdout",
     "output_type": "stream",
     "text": [
      "324/324 [==============================] - 6s 8ms/step - loss: 0.3788 - accuracy: 0.8315 - precision: 0.7576 - recall: 0.5169\n",
      "Epoch 2/10\n",
      "324/324 [==============================] - 2s 7ms/step - loss: 0.2103 - accuracy: 0.9183 - precision: 0.8449 - recall: 0.8398\n",
      "Epoch 3/10\n",
      "324/324 [==============================] - 2s 7ms/step - loss: 0.1621 - accuracy: 0.9379 - precision: 0.8853 - recall: 0.8744\n",
      "Epoch 4/10\n",
      "324/324 [==============================] - 2s 7ms/step - loss: 0.1250 - accuracy: 0.9538 - precision: 0.9088 - recall: 0.9142\n",
      "Epoch 5/10\n",
      "324/324 [==============================] - 2s 7ms/step - loss: 0.1019 - accuracy: 0.9641 - precision: 0.9290 - recall: 0.9331\n",
      "Epoch 6/10\n",
      "324/324 [==============================] - 2s 7ms/step - loss: 0.0827 - accuracy: 0.9691 - precision: 0.9409 - recall: 0.9402\n",
      "Epoch 7/10\n",
      "324/324 [==============================] - 2s 7ms/step - loss: 0.0680 - accuracy: 0.9761 - precision: 0.9543 - recall: 0.9535\n",
      "Epoch 8/10\n",
      "324/324 [==============================] - 2s 7ms/step - loss: 0.0508 - accuracy: 0.9827 - precision: 0.9673 - recall: 0.9662\n",
      "Epoch 9/10\n",
      "324/324 [==============================] - 2s 7ms/step - loss: 0.0479 - accuracy: 0.9837 - precision: 0.9695 - recall: 0.9677\n",
      "Epoch 10/10\n",
      "324/324 [==============================] - 2s 7ms/step - loss: 0.0435 - accuracy: 0.9842 - precision: 0.9702 - recall: 0.9688\n"
     ]
    },
    {
     "data": {
      "text/plain": [
       "<keras.callbacks.History at 0x7f3148332c70>"
      ]
     },
     "execution_count": 12,
     "metadata": {},
     "output_type": "execute_result"
    }
   ],
   "source": [
    "original_model.fit(x_train,y_train, epochs=10)"
   ]
  },
  {
   "cell_type": "code",
   "execution_count": 13,
   "metadata": {},
   "outputs": [
    {
     "name": "stdout",
     "output_type": "stream",
     "text": [
      "108/108 [==============================] - 1s 4ms/step - loss: 0.1529 - accuracy: 0.9484 - precision: 0.8777 - recall: 0.9384\n"
     ]
    },
    {
     "data": {
      "text/plain": [
       "[0.15289336442947388,\n",
       " 0.9484356641769409,\n",
       " 0.8776541948318481,\n",
       " 0.9383783936500549]"
      ]
     },
     "execution_count": 13,
     "metadata": {},
     "output_type": "execute_result"
    }
   ],
   "source": [
    "original_model.evaluate(x_test,y_test)"
   ]
  },
  {
   "cell_type": "code",
   "execution_count": 23,
   "metadata": {},
   "outputs": [
    {
     "name": "stdout",
     "output_type": "stream",
     "text": [
      "108/108 [==============================] - 0s 3ms/step\n",
      "Recall: 0.732039\n"
     ]
    }
   ],
   "source": [
    "y_pred = original_model.predict(x_test)\n",
    "y_pred = np.argmax(y_pred, axis=1)\n",
    "\n",
    "# recall\n",
    "from sklearn.metrics import recall_score\n",
    "recall = recall_score(y_test, y_pred, average='micro')\n",
    "print('Recall: %f' % recall)"
   ]
  },
  {
   "cell_type": "code",
   "execution_count": 21,
   "metadata": {},
   "outputs": [
    {
     "name": "stdout",
     "output_type": "stream",
     "text": [
      "F1 score: 0.732039\n"
     ]
    }
   ],
   "source": [
    "from sklearn.metrics import f1_score\n",
    "f1 = f1_score(y_test, y_pred, average='micro')\n",
    "print('F1 score: %f' % f1)"
   ]
  },
  {
   "cell_type": "code",
   "execution_count": 24,
   "metadata": {},
   "outputs": [
    {
     "data": {
      "image/png": "[encoded data removed]",
      "text/plain": [
       "<Figure size 640x480 with 1 Axes>"
      ]
     },
     "metadata": {},
     "output_type": "display_data"
    }
   ],
   "source": [
    "\n",
    "# roc curve\n",
    "from sklearn.metrics import roc_curve\n",
    "from sklearn.metrics import roc_auc_score\n",
    "from matplotlib import pyplot\n",
    "# calculate roc curves\n",
    "fpr, tpr, thresholds = roc_curve(y_test, y_pred)\n",
    "# plot the roc curve for the model\n",
    "pyplot.plot(fpr, tpr, marker='.', label='ROC')\n",
    "# axis labels\n",
    "pyplot.xlabel('False Positive Rate')\n",
    "pyplot.ylabel('True Positive Rate')\n",
    "# show the legend\n",
    "pyplot.legend()\n",
    "# show the plot\n",
    "pyplot.show()"
   ]
  },
  {
   "cell_type": "code",
   "execution_count": 25,
   "metadata": {},
   "outputs": [],
   "source": [
    "import generate_sub_model as gsm"
   ]
  },
  {
   "cell_type": "code",
   "execution_count": 26,
   "metadata": {},
   "outputs": [],
   "source": [
    "new_model = gsm.genSubModel(chromosomes['57'][0], original_model)"
   ]
  },
  {
   "cell_type": "code",
   "execution_count": 27,
   "metadata": {},
   "outputs": [
    {
     "name": "stdout",
     "output_type": "stream",
     "text": [
      "Epoch 1/20\n",
      "324/324 [==============================] - 6s 12ms/step - loss: 0.2071 - accuracy: 0.9160 - precision: 0.8555 - recall: 0.8142 - val_loss: 0.1849 - val_accuracy: 0.9290 - val_precision: 0.9167 - val_recall: 0.8086\n",
      "Epoch 2/20\n",
      "324/324 [==============================] - 3s 8ms/step - loss: 0.1153 - accuracy: 0.9581 - precision: 0.9160 - recall: 0.9234 - val_loss: 0.1372 - val_accuracy: 0.9502 - val_precision: 0.9044 - val_recall: 0.9103\n",
      "Epoch 3/20\n",
      "324/324 [==============================] - 3s 9ms/step - loss: 0.0856 - accuracy: 0.9679 - precision: 0.9354 - recall: 0.9417 - val_loss: 0.1175 - val_accuracy: 0.9560 - val_precision: 0.9125 - val_recall: 0.9243\n",
      "Epoch 4/20\n",
      "324/324 [==============================] - 3s 8ms/step - loss: 0.0700 - accuracy: 0.9747 - precision: 0.9527 - recall: 0.9498 - val_loss: 0.1234 - val_accuracy: 0.9609 - val_precision: 0.9478 - val_recall: 0.9038\n",
      "Epoch 5/20\n",
      "324/324 [==============================] - 3s 8ms/step - loss: 0.0535 - accuracy: 0.9804 - precision: 0.9584 - recall: 0.9666 - val_loss: 0.1359 - val_accuracy: 0.9574 - val_precision: 0.9371 - val_recall: 0.9016\n",
      "Epoch 6/20\n",
      "324/324 [==============================] - 3s 8ms/step - loss: 0.0492 - accuracy: 0.9821 - precision: 0.9634 - recall: 0.9680 - val_loss: 0.1250 - val_accuracy: 0.9629 - val_precision: 0.9575 - val_recall: 0.9016\n",
      "Epoch 7/20\n",
      "324/324 [==============================] - 3s 9ms/step - loss: 0.0377 - accuracy: 0.9848 - precision: 0.9707 - recall: 0.9710 - val_loss: 0.1487 - val_accuracy: 0.9592 - val_precision: 0.9527 - val_recall: 0.8919\n",
      "Epoch 8/20\n",
      "324/324 [==============================] - 3s 8ms/step - loss: 0.0459 - accuracy: 0.9829 - precision: 0.9656 - recall: 0.9688 - val_loss: 0.1196 - val_accuracy: 0.9603 - val_precision: 0.9004 - val_recall: 0.9578\n",
      "Epoch 9/20\n",
      "324/324 [==============================] - 3s 8ms/step - loss: 0.0301 - accuracy: 0.9892 - precision: 0.9788 - recall: 0.9796 - val_loss: 0.1713 - val_accuracy: 0.9516 - val_precision: 0.8701 - val_recall: 0.9632\n",
      "Epoch 10/20\n",
      "324/324 [==============================] - 3s 8ms/step - loss: 0.0269 - accuracy: 0.9893 - precision: 0.9799 - recall: 0.9788 - val_loss: 0.1816 - val_accuracy: 0.9467 - val_precision: 0.8622 - val_recall: 0.9535\n",
      "Epoch 11/20\n",
      "324/324 [==============================] - 3s 8ms/step - loss: 0.0247 - accuracy: 0.9917 - precision: 0.9829 - recall: 0.9851 - val_loss: 0.1442 - val_accuracy: 0.9615 - val_precision: 0.9074 - val_recall: 0.9535\n",
      "Epoch 12/20\n",
      "324/324 [==============================] - 3s 8ms/step - loss: 0.0214 - accuracy: 0.9916 - precision: 0.9837 - recall: 0.9840 - val_loss: 0.1482 - val_accuracy: 0.9618 - val_precision: 0.9296 - val_recall: 0.9276\n",
      "Epoch 13/20\n",
      "324/324 [==============================] - 3s 8ms/step - loss: 0.0190 - accuracy: 0.9933 - precision: 0.9870 - recall: 0.9874 - val_loss: 0.1755 - val_accuracy: 0.9655 - val_precision: 0.9390 - val_recall: 0.9319\n",
      "Epoch 14/20\n",
      "324/324 [==============================] - 3s 8ms/step - loss: 0.0187 - accuracy: 0.9928 - precision: 0.9870 - recall: 0.9851 - val_loss: 0.1517 - val_accuracy: 0.9609 - val_precision: 0.9123 - val_recall: 0.9449\n",
      "Epoch 15/20\n",
      "324/324 [==============================] - 3s 8ms/step - loss: 0.0250 - accuracy: 0.9904 - precision: 0.9814 - recall: 0.9818 - val_loss: 0.2040 - val_accuracy: 0.9583 - val_precision: 0.9710 - val_recall: 0.8703\n",
      "Epoch 16/20\n",
      "324/324 [==============================] - 3s 8ms/step - loss: 0.0179 - accuracy: 0.9934 - precision: 0.9863 - recall: 0.9885 - val_loss: 0.1864 - val_accuracy: 0.9652 - val_precision: 0.9569 - val_recall: 0.9114\n",
      "Epoch 17/20\n",
      "324/324 [==============================] - 3s 8ms/step - loss: 0.0113 - accuracy: 0.9958 - precision: 0.9911 - recall: 0.9926 - val_loss: 0.1710 - val_accuracy: 0.9673 - val_precision: 0.9319 - val_recall: 0.9470\n",
      "Epoch 18/20\n",
      "324/324 [==============================] - 3s 8ms/step - loss: 0.0055 - accuracy: 0.9984 - precision: 0.9967 - recall: 0.9970 - val_loss: 0.2068 - val_accuracy: 0.9696 - val_precision: 0.9566 - val_recall: 0.9286\n",
      "Epoch 19/20\n",
      "324/324 [==============================] - 3s 8ms/step - loss: 0.0106 - accuracy: 0.9957 - precision: 0.9907 - recall: 0.9926 - val_loss: 0.2356 - val_accuracy: 0.9632 - val_precision: 0.9650 - val_recall: 0.8951\n",
      "Epoch 20/20\n",
      "324/324 [==============================] - 3s 8ms/step - loss: 0.0240 - accuracy: 0.9921 - precision: 0.9837 - recall: 0.9859 - val_loss: 0.2006 - val_accuracy: 0.9635 - val_precision: 0.9264 - val_recall: 0.9384\n"
     ]
    },
    {
     "data": {
      "text/plain": [
       "<keras.callbacks.History at 0x7f31241efe20>"
      ]
     },
     "execution_count": 27,
     "metadata": {},
     "output_type": "execute_result"
    }
   ],
   "source": [
    "new_model.compile(optimizer='adam',\n",
    "                loss='binary_crossentropy',\n",
    "                metrics=['accuracy', 'Precision', 'Recall'])\n",
    "\n",
    "new_model.fit(x_train, y_train, epochs=20, verbose=1,validation_data=(x_test, y_test))"
   ]
  },
  {
   "cell_type": "code",
   "execution_count": 28,
   "metadata": {},
   "outputs": [
    {
     "name": "stdout",
     "output_type": "stream",
     "text": [
      "108/108 [==============================] - 0s 4ms/step - loss: 0.2006 - accuracy: 0.9635 - precision: 0.9264 - recall: 0.9384\n"
     ]
    },
    {
     "data": {
      "text/plain": [
       "[0.20062170922756195,\n",
       " 0.9634994268417358,\n",
       " 0.9263607263565063,\n",
       " 0.9383783936500549]"
      ]
     },
     "execution_count": 28,
     "metadata": {},
     "output_type": "execute_result"
    }
   ],
   "source": [
    "new_model.evaluate(x_test,y_test)"
   ]
  },
  {
   "cell_type": "code",
   "execution_count": 29,
   "metadata": {},
   "outputs": [
    {
     "name": "stdout",
     "output_type": "stream",
     "text": [
      "108/108 [==============================] - 0s 3ms/step\n",
      "Recall: 0.732039\n"
     ]
    }
   ],
   "source": [
    "y_pred = new_model.predict(x_test)\n",
    "y_pred = np.argmax(y_pred, axis=1)\n",
    "\n",
    "# recall\n",
    "from sklearn.metrics import recall_score\n",
    "recall = recall_score(y_test, y_pred, average='micro')\n",
    "print('Recall: %f' % recall)"
   ]
  },
  {
   "cell_type": "code",
   "execution_count": null,
   "metadata": {},
   "outputs": [],
   "source": []
  }
 ],
 "metadata": {
  "kernelspec": {
   "display_name": "Python 3 (ipykernel)",
   "language": "python",
   "name": "python3"
  },
  "language_info": {
   "codemirror_mode": {
    "name": "ipython",
    "version": 3
   },
   "file_extension": ".py",
   "mimetype": "text/x-python",
   "name": "python",
   "nbconvert_exporter": "python",
   "pygments_lexer": "ipython3",
   "version": "3.8.10"
  }
 },
 "nbformat": 4,
 "nbformat_minor": 2
}
