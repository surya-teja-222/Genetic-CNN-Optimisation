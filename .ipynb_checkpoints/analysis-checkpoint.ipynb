{
 "cells": [
  {
   "cell_type": "code",
   "execution_count": 1,
   "metadata": {},
   "outputs": [],
   "source": [
    "import numpy as np\n",
    "import pandas as pd\n",
    "import matplotlib.pyplot as plt\n",
    "import seaborn as sns\n",
    "import json"
   ]
  },
  {
   "cell_type": "code",
   "execution_count": 2,
   "metadata": {},
   "outputs": [
    {
     "name": "stderr",
     "output_type": "stream",
     "text": [
      "2023-03-09 09:16:43.582884: I tensorflow/core/platform/cpu_feature_guard.cc:194] This TensorFlow binary is optimized with oneAPI Deep Neural Network Library (oneDNN) to use the following CPU instructions in performance-critical operations:  SSE3 SSE4.1 SSE4.2 AVX\n",
      "To enable them in other operations, rebuild TensorFlow with the appropriate compiler flags.\n"
     ]
    }
   ],
   "source": [
    "import tensorflow as tf\n",
    "from tensorflow import keras"
   ]
  },
  {
   "cell_type": "code",
   "execution_count": 3,
   "metadata": {},
   "outputs": [],
   "source": [
    "# read chromosomes\n",
    "initial_acc = 0.9603128433227539"
   ]
  },
  {
   "cell_type": "code",
   "execution_count": 4,
   "metadata": {},
   "outputs": [],
   "source": [
    "# mutated chromosomes\n",
    "chromosomes = None\n",
    "with open('chromosomes/new_cromosomes_mutated.json') as f:\n",
    "    chromosomes = json.load(f)"
   ]
  },
  {
   "cell_type": "code",
   "execution_count": 5,
   "metadata": {},
   "outputs": [],
   "source": [
    "for key, value in chromosomes.items():\n",
    "    chromosomes[key].append(chromosomes[key][0].count(0))\n",
    "    chromosomes[key].append(chromosomes[key][0].count(1))\n",
    "    chromosomes[key][1] = chromosomes[key][1]*100"
   ]
  },
  {
   "cell_type": "code",
   "execution_count": 6,
   "metadata": {},
   "outputs": [],
   "source": [
    "# sort based on number of 0s\n",
    "chromosomes = {k: v for k, v in sorted(chromosomes.items(), key=lambda item: (item[1][2]), reverse=True)}"
   ]
  },
  {
   "cell_type": "code",
   "execution_count": 7,
   "metadata": {},
   "outputs": [
    {
     "data": {
      "text/plain": [
       "256"
      ]
     },
     "execution_count": 7,
     "metadata": {},
     "output_type": "execute_result"
    }
   ],
   "source": [
    "len(chromosomes['1'][0])"
   ]
  },
  {
   "cell_type": "code",
   "execution_count": 9,
   "metadata": {},
   "outputs": [
    {
     "name": "stdout",
     "output_type": "stream",
     "text": [
      "57 94.56382038091498 125 131\n",
      "40 95.08414407590294 118 138\n",
      "60 95.426946219312 118 138\n",
      "43 94.9751052741246 115 141\n",
      "70 94.23846000242321 113 143\n",
      "0 95.94251388190264 111 145\n",
      "10 95.57951300850497 111 145\n",
      "13 95.55322598348445 110 146\n",
      "14 95.52484320723043 110 146\n",
      "18 95.44922937427502 110 146\n",
      "78 95.13525749315521 110 146\n",
      "12 95.56348678685315 109 147\n",
      "25 95.33280528743246 109 147\n",
      "27 95.29811301496892 109 147\n",
      "33 95.84295942252328 109 147\n",
      "68 95.0207472373861 109 147\n",
      "74 94.4204553051653 108 148\n",
      "58 95.07941555163603 107 149\n",
      "67 95.55409380227778 107 149\n",
      "21 95.38959732721082 106 150\n",
      "34 95.19965085475752 106 150\n",
      "62 94.22666584682851 106 150\n",
      "65 94.50633674376068 106 150\n",
      "9 95.58710910532612 105 151\n",
      "31 95.24381922860591 105 151\n",
      "35 95.17304555249785 105 151\n",
      "56 95.0921151419875 105 151\n",
      "75 94.99654531462221 105 151\n",
      "3 95.81287592888302 104 152\n",
      "8 95.62021275046153 104 152\n",
      "23 95.54110377863194 104 152\n",
      "63 94.71397551256551 104 152\n",
      "71 94.36100306892554 104 152\n",
      "51 94.82081161382499 103 153\n",
      "54 95.29751827546309 103 153\n",
      "4 95.79983641010934 102 154\n",
      "15 95.50890218736814 102 154\n",
      "26 95.3011526227844 102 154\n",
      "39 95.13573925204074 102 154\n",
      "76 95.12256112702295 102 154\n",
      "72 95.8462897326631 101 155\n",
      "6 95.67791653430331 100 156\n",
      "19 95.43470839971798 100 156\n",
      "53 95.06954599824289 100 156\n",
      "5 95.72324010934781 99 157\n",
      "37 95.16056656504111 99 157\n",
      "50 94.76676351995586 99 157\n",
      "55 94.64778047454367 99 157\n",
      "2 95.81797206734596 98 158\n",
      "22 95.3691249782831 98 158\n",
      "29 95.29454232161288 98 158\n",
      "11 95.57862808230212 97 159\n",
      "28 95.29595362417065 97 159\n",
      "32 95.23640992823202 97 159\n",
      "52 94.64686055121267 97 159\n",
      "59 95.48137924481662 97 159\n",
      "73 94.96389637611891 97 159\n",
      "77 95.11127251075588 97 159\n",
      "30 95.25053305544735 96 160\n",
      "38 95.15125316598022 96 160\n",
      "47 94.87770863937199 96 160\n",
      "48 94.869101963617 96 160\n",
      "64 95.01449066654394 96 160\n",
      "79 93.52474409277023 96 160\n",
      "45 94.89753464768255 95 161\n",
      "1 95.8737893318118 94 162\n",
      "16 95.50828318598917 94 162\n",
      "24 95.3902852184215 94 162\n",
      "44 94.93570272125473 94 162\n",
      "49 94.95674747939374 94 162\n",
      "61 94.77974888033538 94 162\n",
      "69 95.2090818396521 94 162\n",
      "7 95.63651300725058 91 165\n",
      "20 95.59503932731428 91 165\n",
      "36 95.16849098070448 90 166\n",
      "46 96.08708550999644 90 166\n",
      "17 95.46346344620973 89 167\n",
      "41 95.38252998800306 87 169\n",
      "66 95.80345378179626 84 172\n",
      "42 95.89811136034884 82 174\n"
     ]
    }
   ],
   "source": [
    "for key, value in chromosomes.items():\n",
    "    print(key, value[1], value[2], value[3])"
   ]
  },
  {
   "cell_type": "code",
   "execution_count": 10,
   "metadata": {},
   "outputs": [
    {
     "name": "stderr",
     "output_type": "stream",
     "text": [
      "2023-03-09 09:17:26.083974: I tensorflow/core/platform/cpu_feature_guard.cc:194] This TensorFlow binary is optimized with oneAPI Deep Neural Network Library (oneDNN) to use the following CPU instructions in performance-critical operations:  SSE3 SSE4.1 SSE4.2 AVX\n",
      "To enable them in other operations, rebuild TensorFlow with the appropriate compiler flags.\n",
      "2023-03-09 09:17:26.227958: I tensorflow/core/common_runtime/gpu/gpu_device.cc:1621] Created device /job:localhost/replica:0/task:0/device:GPU:0 with 14786 MB memory:  -> device: 0, name: Tesla V100-SXM2-16GB, pci bus id: 0000:8a:00.0, compute capability: 7.0\n"
     ]
    }
   ],
   "source": [
    "original_model = keras.models.load_model('models/base_model.h5')"
   ]
  },
  {
   "cell_type": "code",
   "execution_count": 10,
   "metadata": {},
   "outputs": [],
   "source": [
    "import fitness as fit"
   ]
  },
  {
   "cell_type": "code",
   "execution_count": 12,
   "metadata": {},
   "outputs": [],
   "source": [
    "from test_train_data import x_train, y_train, x_test, y_test"
   ]
  },
  {
   "cell_type": "code",
   "execution_count": 13,
   "metadata": {},
   "outputs": [
    {
     "name": "stderr",
     "output_type": "stream",
     "text": [
      "2023-03-09 09:18:26.491761: I tensorflow/compiler/xla/stream_executor/cuda/cuda_dnn.cc:428] Loaded cuDNN version 8700\n"
     ]
    },
    {
     "name": "stdout",
     "output_type": "stream",
     "text": [
      "108/108 - 1s - loss: 0.0620 - accuracy: 0.9809 - precision: 0.9769 - 1s/epoch - 12ms/step\n",
      "[0.062036171555519104, 0.9808806777000427, 0.9768977165222168]\n",
      "324/324 - 1s - loss: 0.0490 - accuracy: 0.9855 - precision: 0.9803 - 1s/epoch - 4ms/step\n",
      "[0.04903525486588478, 0.9855156540870667, 0.9802806377410889]\n"
     ]
    }
   ],
   "source": [
    "# evaluate\n",
    "print(original_model.evaluate(x_test, y_test, verbose=2))\n",
    "print(original_model.evaluate(x_train, y_train, verbose=2))"
   ]
  },
  {
   "cell_type": "code",
   "execution_count": 14,
   "metadata": {},
   "outputs": [
    {
     "name": "stdout",
     "output_type": "stream",
     "text": [
      "108/108 [==============================] - 0s 3ms/step\n",
      "Recall: 0.500000\n",
      "F1 score: 0.421872\n",
      "Jaccard score: 0.364861\n",
      "Cohens kappa: 0.000000\n",
      "[[2519    0]\n",
      " [ 933    0]]\n"
     ]
    }
   ],
   "source": [
    "# precision, recall, f1-score\n",
    "\n",
    "# precision\n",
    "y_pred = original_model.predict(x_test)\n",
    "y_pred = np.argmax(y_pred, axis=1)\n",
    "\n",
    "# recall\n",
    "from sklearn.metrics import recall_score\n",
    "recall = recall_score(y_test, y_pred, average='macro')\n",
    "print('Recall: %f' % recall)\n",
    "\n",
    "# f1-score\n",
    "from sklearn.metrics import f1_score\n",
    "f1 = f1_score(y_test, y_pred, average='macro')\n",
    "print('F1 score: %f' % f1)\n",
    "\n",
    "# jaccard score\n",
    "from sklearn.metrics import jaccard_score\n",
    "jaccard = jaccard_score(y_test, y_pred, average='macro')\n",
    "print('Jaccard score: %f' % jaccard)\n",
    "\n",
    "# cohens kappa\n",
    "from sklearn.metrics import cohen_kappa_score\n",
    "kappa = cohen_kappa_score(y_test, y_pred)\n",
    "print('Cohens kappa: %f' % kappa)\n",
    "\n",
    "# confusion matrix\n",
    "from sklearn.metrics import confusion_matrix\n",
    "cm = confusion_matrix(y_test, y_pred)\n",
    "print(cm)"
   ]
  },
  {
   "cell_type": "code",
   "execution_count": 15,
   "metadata": {},
   "outputs": [
    {
     "data": {
      "image/png": "[encoded data removed]",
      "text/plain": [
       "<Figure size 640x480 with 1 Axes>"
      ]
     },
     "metadata": {},
     "output_type": "display_data"
    }
   ],
   "source": [
    "\n",
    "# roc curve\n",
    "from sklearn.metrics import roc_curve\n",
    "from sklearn.metrics import roc_auc_score\n",
    "from matplotlib import pyplot\n",
    "# calculate roc curves\n",
    "fpr, tpr, thresholds = roc_curve(y_test, y_pred)\n",
    "# plot the roc curve for the model\n",
    "pyplot.plot(fpr, tpr, marker='.', label='ROC')\n",
    "# axis labels\n",
    "pyplot.xlabel('False Positive Rate')\n",
    "pyplot.ylabel('True Positive Rate')\n",
    "# show the legend\n",
    "pyplot.legend()\n",
    "# show the plot\n",
    "pyplot.show()"
   ]
  },
  {
   "cell_type": "code",
   "execution_count": 16,
   "metadata": {},
   "outputs": [
    {
     "name": "stdout",
     "output_type": "stream",
     "text": [
      "108/108 [==============================] - 0s 3ms/step\n"
     ]
    },
    {
     "data": {
      "text/plain": [
       "(3452, 1)"
      ]
     },
     "execution_count": 16,
     "metadata": {},
     "output_type": "execute_result"
    }
   ],
   "source": [
    "original_model.predict(x_test).shape"
   ]
  },
  {
   "cell_type": "code",
   "execution_count": 17,
   "metadata": {},
   "outputs": [
    {
     "name": "stdout",
     "output_type": "stream",
     "text": [
      "Number of MFLOPS: 21222.44724\n"
     ]
    }
   ],
   "source": [
    "num_params = original_model.count_params()\n",
    "num_flops = original_model.count_params() * x_train.shape[0] * 10\n",
    "num_mflops = num_flops / 1e6\n",
    "print('Number of MFLOPS:', num_mflops)"
   ]
  },
  {
   "cell_type": "code",
   "execution_count": 18,
   "metadata": {},
   "outputs": [],
   "source": [
    "import generate_sub_model as gsm"
   ]
  },
  {
   "cell_type": "code",
   "execution_count": 20,
   "metadata": {},
   "outputs": [
    {
     "name": "stdout",
     "output_type": "stream",
     "text": [
      "[94.56382038091498, 125, 131]\n"
     ]
    }
   ],
   "source": [
    "print(chromosomes['57'][1:])"
   ]
  },
  {
   "cell_type": "code",
   "execution_count": 33,
   "metadata": {},
   "outputs": [],
   "source": [
    "new_model = gsm.genSubModel(chromosomes['57'][0], original_model)"
   ]
  },
  {
   "cell_type": "code",
   "execution_count": 22,
   "metadata": {},
   "outputs": [],
   "source": [
    "import fitness as fit"
   ]
  },
  {
   "cell_type": "code",
   "execution_count": 23,
   "metadata": {},
   "outputs": [],
   "source": [
    "from test_train_data import x_train, y_train, x_test, y_test"
   ]
  },
  {
   "cell_type": "code",
   "execution_count": 24,
   "metadata": {},
   "outputs": [
    {
     "name": "stdout",
     "output_type": "stream",
     "text": [
      "Epoch 1/10\n"
     ]
    },
    {
     "name": "stderr",
     "output_type": "stream",
     "text": [
      "2023-03-09 09:20:22.633364: I tensorflow/compiler/xla/service/service.cc:173] XLA service 0x7f504406fd40 initialized for platform CUDA (this does not guarantee that XLA will be used). Devices:\n",
      "2023-03-09 09:20:22.633417: I tensorflow/compiler/xla/service/service.cc:181]   StreamExecutor device (0): Tesla V100-SXM2-16GB, Compute Capability 7.0\n",
      "2023-03-09 09:20:22.640420: I tensorflow/compiler/mlir/tensorflow/utils/dump_mlir_util.cc:268] disabling MLIR crash reproducer, set env var `MLIR_CRASH_REPRODUCER_DIRECTORY` to enable.\n",
      "2023-03-09 09:20:22.780246: I tensorflow/compiler/jit/xla_compilation_cache.cc:480] Compiled cluster using XLA!  This line is logged at most once for the lifetime of the process.\n"
     ]
    },
    {
     "name": "stdout",
     "output_type": "stream",
     "text": [
      "324/324 [==============================] - 6s 11ms/step - loss: 0.2055 - accuracy: 0.9195 - precision: 0.8621 - val_loss: 0.1333 - val_accuracy: 0.9534 - val_precision: 0.9337\n",
      "Epoch 2/10\n",
      "324/324 [==============================] - 3s 9ms/step - loss: 0.1214 - accuracy: 0.9562 - precision: 0.9132 - val_loss: 0.1218 - val_accuracy: 0.9537 - val_precision: 0.8815\n",
      "Epoch 3/10\n",
      "324/324 [==============================] - 3s 8ms/step - loss: 0.0932 - accuracy: 0.9678 - precision: 0.9349 - val_loss: 0.0885 - val_accuracy: 0.9684 - val_precision: 0.9449\n",
      "Epoch 4/10\n",
      "324/324 [==============================] - 3s 8ms/step - loss: 0.0751 - accuracy: 0.9733 - precision: 0.9456 - val_loss: 0.0882 - val_accuracy: 0.9670 - val_precision: 0.9398\n",
      "Epoch 5/10\n",
      "324/324 [==============================] - 3s 8ms/step - loss: 0.0611 - accuracy: 0.9790 - precision: 0.9587 - val_loss: 0.0818 - val_accuracy: 0.9684 - val_precision: 0.9364\n",
      "Epoch 6/10\n",
      "324/324 [==============================] - 3s 8ms/step - loss: 0.0447 - accuracy: 0.9831 - precision: 0.9676 - val_loss: 0.0891 - val_accuracy: 0.9716 - val_precision: 0.9613\n",
      "Epoch 7/10\n",
      "324/324 [==============================] - 3s 8ms/step - loss: 0.0402 - accuracy: 0.9847 - precision: 0.9702 - val_loss: 0.0946 - val_accuracy: 0.9684 - val_precision: 0.9692\n",
      "Epoch 8/10\n",
      "324/324 [==============================] - 3s 8ms/step - loss: 0.0317 - accuracy: 0.9880 - precision: 0.9758 - val_loss: 0.1133 - val_accuracy: 0.9673 - val_precision: 0.9280\n",
      "Epoch 9/10\n",
      "324/324 [==============================] - 3s 8ms/step - loss: 0.0273 - accuracy: 0.9902 - precision: 0.9832 - val_loss: 0.0838 - val_accuracy: 0.9728 - val_precision: 0.9525\n",
      "Epoch 10/10\n",
      "324/324 [==============================] - 3s 8ms/step - loss: 0.0255 - accuracy: 0.9908 - precision: 0.9814 - val_loss: 0.1088 - val_accuracy: 0.9664 - val_precision: 0.9106\n",
      "108/108 [==============================] - 0s 3ms/step\n"
     ]
    },
    {
     "data": {
      "text/plain": [
       "0.9561605466161176"
      ]
     },
     "execution_count": 24,
     "metadata": {},
     "output_type": "execute_result"
    }
   ],
   "source": [
    "fit.getFitness(new_model, epochs=10, verbose=1)\n"
   ]
  },
  {
   "cell_type": "code",
   "execution_count": 26,
   "metadata": {},
   "outputs": [
    {
     "name": "stdout",
     "output_type": "stream",
     "text": [
      "108/108 - 0s - loss: 0.1088 - accuracy: 0.9664 - precision: 0.9106 - 421ms/epoch - 4ms/step\n",
      "[0.10879085958003998, 0.9663962721824646, 0.9105527400970459]\n",
      "324/324 - 1s - loss: 0.0212 - accuracy: 0.9932 - precision: 0.9746 - 1s/epoch - 4ms/step\n",
      "[0.021219968795776367, 0.9932406544685364, 0.9745731949806213]\n"
     ]
    }
   ],
   "source": [
    "\n",
    "# evaluate\n",
    "\n",
    "print(new_model.evaluate(x_test, y_test, verbose=2))\n",
    "print(new_model.evaluate(x_train, y_train, verbose=2))"
   ]
  },
  {
   "cell_type": "code",
   "execution_count": 27,
   "metadata": {},
   "outputs": [
    {
     "name": "stdout",
     "output_type": "stream",
     "text": [
      "Number of MFLOPS: 6469.60032\n"
     ]
    }
   ],
   "source": [
    "num_params = new_model.count_params()\n",
    "num_flops = new_model.count_params() * x_train.shape[0] * 10\n",
    "num_mflops = num_flops / 1e6\n",
    "print('Number of MFLOPS:', num_mflops)"
   ]
  },
  {
   "cell_type": "code",
   "execution_count": 28,
   "metadata": {},
   "outputs": [],
   "source": [
    "# save model\n",
    "new_model.save('models/new_model_best_compression.h5')"
   ]
  },
  {
   "cell_type": "code",
   "execution_count": 34,
   "metadata": {},
   "outputs": [
    {
     "name": "stdout",
     "output_type": "stream",
     "text": [
      "Epoch 1/30\n",
      "324/324 [==============================] - 6s 11ms/step - loss: 0.1970 - accuracy: 0.9223 - precision: 0.8634 - val_loss: 0.1287 - val_accuracy: 0.9516 - val_precision: 0.8932\n",
      "Epoch 2/30\n",
      "324/324 [==============================] - 3s 8ms/step - loss: 0.1095 - accuracy: 0.9592 - precision: 0.9204 - val_loss: 0.0974 - val_accuracy: 0.9635 - val_precision: 0.9306\n",
      "Epoch 3/30\n",
      "324/324 [==============================] - 3s 8ms/step - loss: 0.0818 - accuracy: 0.9700 - precision: 0.9412 - val_loss: 0.0998 - val_accuracy: 0.9623 - val_precision: 0.9537\n",
      "Epoch 4/30\n",
      "324/324 [==============================] - 3s 8ms/step - loss: 0.0597 - accuracy: 0.9790 - precision: 0.9590 - val_loss: 0.0915 - val_accuracy: 0.9687 - val_precision: 0.9384\n",
      "Epoch 5/30\n",
      "324/324 [==============================] - 3s 8ms/step - loss: 0.0474 - accuracy: 0.9822 - precision: 0.9650 - val_loss: 0.0891 - val_accuracy: 0.9696 - val_precision: 0.9367\n",
      "Epoch 6/30\n",
      "324/324 [==============================] - 3s 8ms/step - loss: 0.0363 - accuracy: 0.9865 - precision: 0.9736 - val_loss: 0.0887 - val_accuracy: 0.9705 - val_precision: 0.9416\n",
      "Epoch 7/30\n",
      "324/324 [==============================] - 3s 8ms/step - loss: 0.0334 - accuracy: 0.9887 - precision: 0.9773 - val_loss: 0.1231 - val_accuracy: 0.9606 - val_precision: 0.9761\n",
      "Epoch 8/30\n",
      "324/324 [==============================] - 3s 8ms/step - loss: 0.0253 - accuracy: 0.9907 - precision: 0.9825 - val_loss: 0.0935 - val_accuracy: 0.9716 - val_precision: 0.9533\n",
      "Epoch 9/30\n",
      "324/324 [==============================] - 3s 8ms/step - loss: 0.0259 - accuracy: 0.9900 - precision: 0.9792 - val_loss: 0.1059 - val_accuracy: 0.9667 - val_precision: 0.9058\n",
      "Epoch 10/30\n",
      "324/324 [==============================] - 3s 8ms/step - loss: 0.0195 - accuracy: 0.9938 - precision: 0.9873 - val_loss: 0.1214 - val_accuracy: 0.9641 - val_precision: 0.9480\n",
      "Epoch 11/30\n",
      "324/324 [==============================] - 3s 8ms/step - loss: 0.0223 - accuracy: 0.9912 - precision: 0.9821 - val_loss: 0.1776 - val_accuracy: 0.9603 - val_precision: 0.9795\n",
      "Epoch 12/30\n",
      "324/324 [==============================] - 3s 8ms/step - loss: 0.0152 - accuracy: 0.9949 - precision: 0.9899 - val_loss: 0.1315 - val_accuracy: 0.9696 - val_precision: 0.9510\n",
      "Epoch 13/30\n",
      "324/324 [==============================] - 3s 8ms/step - loss: 0.0110 - accuracy: 0.9960 - precision: 0.9933 - val_loss: 0.1932 - val_accuracy: 0.9424 - val_precision: 0.8318\n",
      "Epoch 14/30\n",
      "324/324 [==============================] - 3s 8ms/step - loss: 0.0067 - accuracy: 0.9980 - precision: 0.9966 - val_loss: 0.1318 - val_accuracy: 0.9725 - val_precision: 0.9604\n",
      "Epoch 15/30\n",
      "324/324 [==============================] - 3s 8ms/step - loss: 0.0254 - accuracy: 0.9913 - precision: 0.9825 - val_loss: 0.1250 - val_accuracy: 0.9705 - val_precision: 0.9612\n",
      "Epoch 16/30\n",
      "324/324 [==============================] - 3s 8ms/step - loss: 0.0064 - accuracy: 0.9984 - precision: 0.9970 - val_loss: 0.1434 - val_accuracy: 0.9731 - val_precision: 0.9677\n",
      "Epoch 17/30\n",
      "324/324 [==============================] - 3s 8ms/step - loss: 0.0102 - accuracy: 0.9964 - precision: 0.9922 - val_loss: 0.1452 - val_accuracy: 0.9713 - val_precision: 0.9593\n",
      "Epoch 18/30\n",
      "324/324 [==============================] - 3s 8ms/step - loss: 0.0133 - accuracy: 0.9958 - precision: 0.9911 - val_loss: 0.1319 - val_accuracy: 0.9710 - val_precision: 0.9370\n",
      "Epoch 19/30\n",
      "324/324 [==============================] - 3s 8ms/step - loss: 0.0068 - accuracy: 0.9978 - precision: 0.9952 - val_loss: 0.1352 - val_accuracy: 0.9713 - val_precision: 0.9335\n",
      "Epoch 20/30\n",
      "324/324 [==============================] - 3s 8ms/step - loss: 0.0059 - accuracy: 0.9973 - precision: 0.9944 - val_loss: 0.1397 - val_accuracy: 0.9739 - val_precision: 0.9607\n",
      "Epoch 21/30\n",
      "324/324 [==============================] - 3s 8ms/step - loss: 0.0177 - accuracy: 0.9932 - precision: 0.9877 - val_loss: 0.1287 - val_accuracy: 0.9710 - val_precision: 0.9633\n",
      "Epoch 22/30\n",
      "324/324 [==============================] - 3s 8ms/step - loss: 0.0091 - accuracy: 0.9963 - precision: 0.9933 - val_loss: 0.1497 - val_accuracy: 0.9739 - val_precision: 0.9498\n",
      "Epoch 23/30\n",
      "324/324 [==============================] - 3s 8ms/step - loss: 0.0025 - accuracy: 0.9993 - precision: 0.9985 - val_loss: 0.1510 - val_accuracy: 0.9710 - val_precision: 0.9298\n",
      "Epoch 24/30\n",
      "324/324 [==============================] - 3s 8ms/step - loss: 0.0124 - accuracy: 0.9952 - precision: 0.9900 - val_loss: 0.1582 - val_accuracy: 0.9707 - val_precision: 0.9407\n",
      "Epoch 25/30\n",
      "324/324 [==============================] - 3s 8ms/step - loss: 0.0096 - accuracy: 0.9963 - precision: 0.9933 - val_loss: 0.1427 - val_accuracy: 0.9713 - val_precision: 0.9623\n",
      "Epoch 26/30\n",
      "324/324 [==============================] - 3s 8ms/step - loss: 0.0080 - accuracy: 0.9970 - precision: 0.9948 - val_loss: 0.1575 - val_accuracy: 0.9731 - val_precision: 0.9430\n",
      "Epoch 27/30\n",
      "324/324 [==============================] - 3s 8ms/step - loss: 0.0151 - accuracy: 0.9947 - precision: 0.9896 - val_loss: 0.1666 - val_accuracy: 0.9707 - val_precision: 0.9674\n",
      "Epoch 28/30\n",
      "324/324 [==============================] - 3s 8ms/step - loss: 0.0096 - accuracy: 0.9967 - precision: 0.9940 - val_loss: 0.1210 - val_accuracy: 0.9716 - val_precision: 0.9543\n",
      "Epoch 29/30\n",
      "324/324 [==============================] - 3s 8ms/step - loss: 0.0155 - accuracy: 0.9945 - precision: 0.9903 - val_loss: 0.1347 - val_accuracy: 0.9702 - val_precision: 0.9243\n",
      "Epoch 30/30\n",
      "324/324 [==============================] - 3s 8ms/step - loss: 0.0064 - accuracy: 0.9972 - precision: 0.9948 - val_loss: 0.1583 - val_accuracy: 0.9647 - val_precision: 0.9043\n"
     ]
    },
    {
     "data": {
      "text/plain": [
       "<keras.callbacks.History at 0x7f52641ef9a0>"
      ]
     },
     "execution_count": 34,
     "metadata": {},
     "output_type": "execute_result"
    }
   ],
   "source": [
    "new_model.compile(optimizer='adam',\n",
    "                loss='binary_crossentropy',\n",
    "                metrics=['accuracy', 'Precision'])\n",
    "\n",
    "new_model.fit(x_train, y_train, epochs=30, verbose=1,validation_data=(x_test, y_test))"
   ]
  },
  {
   "cell_type": "code",
   "execution_count": 47,
   "metadata": {
    "scrolled": true
   },
   "outputs": [
    {
     "data": {
      "text/plain": [
       "Text(0, 0.5, 'Accuracy')"
      ]
     },
     "execution_count": 47,
     "metadata": {},
     "output_type": "execute_result"
    },
    {
     "data": {
      "image/png": "[encoded data removed]",
      "text/plain": [
       "<Figure size 640x480 with 1 Axes>"
      ]
     },
     "metadata": {},
     "output_type": "display_data"
    }
   ],
   "source": [
    "# draw graph of accuracy in each epoch\n",
    "plt.plot(new_model.history.history['accuracy'])\n",
    "plt.xlabel(\"Number of Epoch\")\n",
    "plt.ylabel(\"Accuracy\")"
   ]
  },
  {
   "cell_type": "code",
   "execution_count": 36,
   "metadata": {},
   "outputs": [],
   "source": [
    "import copy"
   ]
  },
  {
   "cell_type": "code",
   "execution_count": 37,
   "metadata": {},
   "outputs": [],
   "source": [
    "for key, value in chromosomes.items():\n",
    "    to_remove = {}\n",
    "    to_remove_as_list = copy.deepcopy(value[0])\n",
    "    for i, layer in enumerate(new_model.layers):\n",
    "        if(i != 0 and i != len(new_model.layers) - 1):\n",
    "            if(isinstance(layer, keras.layers.Conv2D)):\n",
    "                ls = to_remove_as_list[:int(layer.filters)]\n",
    "                to_remove_as_list = to_remove_as_list[int(layer.filters):]\n",
    "                zero_idx = ls.count(0)\n",
    "                to_remove[i] = zero_idx\n",
    "            elif (isinstance(layer, keras.layers.Dense)):\n",
    "                ls = to_remove_as_list[:int(layer.units)]\n",
    "                to_remove_as_list = to_remove_as_list[int(layer.units):]\n",
    "                zero_idx =  ls.count(0)\n",
    "                to_remove[i] = zero_idx\n",
    "    value.append(to_remove)"
   ]
  },
  {
   "cell_type": "code",
   "execution_count": 38,
   "metadata": {},
   "outputs": [
    {
     "name": "stdout",
     "output_type": "stream",
     "text": [
      "[94.56382038091498, 125, 131, {2: 10, 4: 16, 6: 7, 9: 34}]\n"
     ]
    }
   ],
   "source": [
    "print(chromosomes['57'][1:])"
   ]
  },
  {
   "cell_type": "code",
   "execution_count": 39,
   "metadata": {},
   "outputs": [],
   "source": [
    "# sort chromosomes based on number of 0s and accuracy\n",
    "chromosomes = {k: v for k, v in sorted(chromosomes.items(), key=lambda item: (item[1][3], item[1][2]), reverse=True)}"
   ]
  },
  {
   "cell_type": "code",
   "execution_count": 40,
   "metadata": {},
   "outputs": [],
   "source": [
    "# get first 10 chromosomes sorted by accuracy\n",
    "chromosomes_10 = {k: v for k, v in sorted(chromosomes.items(), key=lambda item: (item[1][1]), reverse=True)[:15]}"
   ]
  },
  {
   "cell_type": "code",
   "execution_count": 41,
   "metadata": {},
   "outputs": [
    {
     "name": "stdout",
     "output_type": "stream",
     "text": [
      "96.08708550999644\n",
      "95.94251388190264\n",
      "95.89811136034884\n",
      "95.8737893318118\n",
      "95.8462897326631\n",
      "95.84295942252328\n",
      "95.81797206734596\n",
      "95.81287592888302\n",
      "95.80345378179626\n",
      "95.79983641010934\n",
      "95.72324010934781\n",
      "95.67791653430331\n",
      "95.63651300725058\n",
      "95.62021275046153\n",
      "95.59503932731428\n"
     ]
    }
   ],
   "source": [
    "for key, value in chromosomes_10.items():\n",
    "    print(value[1])"
   ]
  },
  {
   "cell_type": "code",
   "execution_count": 42,
   "metadata": {},
   "outputs": [],
   "source": [
    "n = 15\n",
    "x = np.arange(n)"
   ]
  },
  {
   "cell_type": "code",
   "execution_count": 43,
   "metadata": {},
   "outputs": [],
   "source": [
    "accuracy = []\n",
    "zeroes_l1 = []\n",
    "zeroes_l2 = []\n",
    "zeroes_l3 = []\n",
    "zeroes_l4 = []\n",
    "for key, value in chromosomes_10.items():\n",
    "    accuracy.append(value[1])\n",
    "    zeroes_l1.append(value[4][2])\n",
    "    zeroes_l2.append(value[4][4])\n",
    "    zeroes_l3.append(value[4][6])\n",
    "    zeroes_l4.append(value[4][9])"
   ]
  },
  {
   "cell_type": "code",
   "execution_count": 48,
   "metadata": {},
   "outputs": [
    {
     "data": {
      "image/png": "[encoded data removed]",
      "text/plain": [
       "<Figure size 2000x800 with 1 Axes>"
      ]
     },
     "metadata": {},
     "output_type": "display_data"
    }
   ],
   "source": [
    "fig = plt.subplots(1,1,figsize =(20, 8))\n",
    "\n",
    "plt.bar(x, zeroes_l1 , color ='r', width = 0.2,\n",
    "        edgecolor ='grey', alpha=.5 , label ='L1')\n",
    "\n",
    "plt.bar(x + 0.2, zeroes_l2 , color ='g', width = 0.2,\n",
    "        edgecolor ='grey', alpha=.5 , label ='L2')\n",
    "\n",
    "plt.bar(x+0.4, zeroes_l3 , color ='b', width = 0.2,\n",
    "        edgecolor ='grey', alpha=.5 , label ='L3')\n",
    "\n",
    "plt.bar(x+0.6, zeroes_l4 , color ='black', width = 0.2,\n",
    "        edgecolor ='grey', alpha=.5 , label ='L4')\n",
    "\n",
    "plt.title(\"Fitness vs Numver of nodes removed for Best 15 models\")\n",
    "plt.xlabel(\"Fitness\")\n",
    "plt.ylabel(\"Number of Nodes Removed\")\n",
    "\n",
    "plt.xticks(x + 0.4, [str(round(float(i),2)) for i in accuracy])\n",
    "\n",
    "plt.legend()\n",
    "plt.show()\n"
   ]
  },
  {
   "cell_type": "code",
   "execution_count": 49,
   "metadata": {},
   "outputs": [],
   "source": [
    "models = [\n",
    "    'originaLNN',\n",
    "    'CompressedNN',\n",
    "    'alexnet',\n",
    "    'KNN',\n",
    "    'LogisticRegression',\n",
    "    'RandomForest',\n",
    "    'resnet',\n",
    "    'SVM',\n",
    "]\n",
    "\n",
    "accuracy = [\n",
    "    98.08806777000427,\n",
    "    96.63962721824646,\n",
    "    74.9,\n",
    "    88.03592120509849,\n",
    "    84.50173812282734,\n",
    "    91.33835457705678,\n",
    "    83.4,\n",
    "    90.58516801853997\n",
    "]"
   ]
  },
  {
   "cell_type": "code",
   "execution_count": 50,
   "metadata": {},
   "outputs": [],
   "source": [
    "import seaborn as sns"
   ]
  },
  {
   "cell_type": "code",
   "execution_count": 51,
   "metadata": {},
   "outputs": [
    {
     "data": {
      "image/png": "[encoded data removed]",
      "text/plain": [
       "<Figure size 2000x800 with 1 Axes>"
      ]
     },
     "metadata": {},
     "output_type": "display_data"
    }
   ],
   "source": [
    "# draw graph of accuracy vs model with labels and title\n",
    "sns.set_style(\"whitegrid\")\n",
    "plt.figure(figsize=(20,8))\n",
    "plt.title(\"Accuracy vs Model\")\n",
    "plt.xlabel(\"Model\")\n",
    "plt.ylabel(\"Accuracy\")\n",
    "sns.barplot(x=models, y=accuracy)\n",
    "\n",
    "# bar labels\n",
    "for index, value in enumerate(accuracy):\n",
    "    plt.text(index, value, str(round(value, 2)))\n",
    "\n",
    "plt.show()\n"
   ]
  },
  {
   "cell_type": "markdown",
   "metadata": {},
   "source": [
    "# MFLOPS\n"
   ]
  },
  {
   "cell_type": "code",
   "execution_count": 52,
   "metadata": {},
   "outputs": [
    {
     "name": "stdout",
     "output_type": "stream",
     "text": [
      "Number of MFLOPS: 21222.44724\n"
     ]
    }
   ],
   "source": [
    "num_params = original_model.count_params()\n",
    "num_flops = original_model.count_params() * x_train.shape[0] * 10\n",
    "num_mflops = num_flops / 1e6\n",
    "print('Number of MFLOPS:', num_mflops)"
   ]
  },
  {
   "cell_type": "code",
   "execution_count": 53,
   "metadata": {},
   "outputs": [
    {
     "name": "stdout",
     "output_type": "stream",
     "text": [
      "Number of MFLOPS: 6469.60032\n"
     ]
    }
   ],
   "source": [
    "num_params = new_model.count_params()\n",
    "num_flops = new_model.count_params() * x_train.shape[0] * 10\n",
    "num_mflops = num_flops / 1e6\n",
    "print('Number of MFLOPS:', num_mflops)"
   ]
  },
  {
   "cell_type": "code",
   "execution_count": 54,
   "metadata": {},
   "outputs": [],
   "source": [
    "import os"
   ]
  },
  {
   "cell_type": "code",
   "execution_count": 55,
   "metadata": {},
   "outputs": [
    {
     "name": "stdout",
     "output_type": "stream",
     "text": [
      "Original model size: 2518152\n"
     ]
    }
   ],
   "source": [
    "# size of original model\n",
    "print('Original model size:', os.path.getsize('models/base_model.h5'))\n"
   ]
  },
  {
   "cell_type": "code",
   "execution_count": 56,
   "metadata": {},
   "outputs": [
    {
     "name": "stdout",
     "output_type": "stream",
     "text": [
      "Original model size: 808328\n"
     ]
    }
   ],
   "source": [
    "print('Original model size:', os.path.getsize('models/new_model_best_compression.h5'))\n"
   ]
  },
  {
   "cell_type": "code",
   "execution_count": 57,
   "metadata": {},
   "outputs": [
    {
     "name": "stdout",
     "output_type": "stream",
     "text": [
      "Compression: 0.6789995202831283\n"
     ]
    }
   ],
   "source": [
    "# find amount of compression\n",
    "print('Compression:', 1 - (os.path.getsize('models/new_model_best_compression.h5') / os.path.getsize('models/base_model.h5')))"
   ]
  },
  {
   "cell_type": "code",
   "execution_count": 59,
   "metadata": {},
   "outputs": [
    {
     "name": "stdout",
     "output_type": "stream",
     "text": [
      "108/108 [==============================] - 0s 3ms/step\n",
      "Recall: 0.500000\n",
      "F1 score: 0.421872\n",
      "Jaccard score: 0.364861\n",
      "Cohens kappa: 0.000000\n",
      "[[2519    0]\n",
      " [ 933    0]]\n",
      "[0. 1.] [0. 1.] [1 0]\n",
      "ROC AUC=0.500\n"
     ]
    }
   ],
   "source": [
    "# find accuracy, precision, recall, f1 score, jaccard index, kappa score, confusion matrix, ROC curve, AUC score, etc.\n",
    "\n",
    "\n",
    "y_pred = new_model.predict(x_test)\n",
    "y_pred = np.argmax(y_pred, axis=1)\n",
    "\n",
    "# recall\n",
    "from sklearn.metrics import recall_score\n",
    "recall = recall_score(y_test, y_pred, average='macro')\n",
    "print('Recall: %f' % recall)\n",
    "\n",
    "# f1 score\n",
    "from sklearn.metrics import f1_score\n",
    "f1 = f1_score(y_test, y_pred, average='macro')\n",
    "print('F1 score: %f' % f1)\n",
    "\n",
    "# jaccard index\n",
    "from sklearn.metrics import jaccard_score\n",
    "jaccard = jaccard_score(y_test, y_pred, average='macro')\n",
    "print('Jaccard score: %f' % jaccard)\n",
    "\n",
    "# kappa score\n",
    "from sklearn.metrics import cohen_kappa_score\n",
    "kappa = cohen_kappa_score(y_test, y_pred)\n",
    "print('Cohens kappa: %f' % kappa)\n",
    "\n",
    "# confusion matrix\n",
    "from sklearn.metrics import confusion_matrix\n",
    "matrix = confusion_matrix(y_test, y_pred)\n",
    "print(matrix)\n",
    "\n",
    "# ROC curve\n",
    "from sklearn.metrics import roc_curve\n",
    "fpr, tpr, thresholds = roc_curve(y_test, y_pred)\n",
    "print(fpr, tpr, thresholds)\n",
    "\n",
    "# AUC score\n",
    "from sklearn.metrics import roc_auc_score\n",
    "auc = roc_auc_score(y_test, y_pred)\n",
    "print('ROC AUC=%.3f' % (auc))\n"
   ]
  },
  {
   "cell_type": "code",
   "execution_count": 60,
   "metadata": {},
   "outputs": [
    {
     "data": {
      "image/png": "[encoded data removed]",
      "text/plain": [
       "<Figure size 640x480 with 1 Axes>"
      ]
     },
     "metadata": {},
     "output_type": "display_data"
    }
   ],
   "source": [
    "\n",
    "# roc curve\n",
    "from sklearn.metrics import roc_curve\n",
    "from sklearn.metrics import roc_auc_score\n",
    "from matplotlib import pyplot\n",
    "# calculate roc curves\n",
    "fpr, tpr, thresholds = roc_curve(y_test, y_pred)\n",
    "# plot the roc curve for the model\n",
    "pyplot.plot(fpr, tpr, marker='.', label='ROC')\n",
    "# axis labels\n",
    "pyplot.xlabel('False Positive Rate')\n",
    "pyplot.ylabel('True Positive Rate')\n",
    "# show the legend\n",
    "pyplot.legend()\n",
    "# show the plot\n",
    "pyplot.show()"
   ]
  },
  {
   "cell_type": "code",
   "execution_count": null,
   "metadata": {},
   "outputs": [],
   "source": []
  }
 ],
 "metadata": {
  "kernelspec": {
   "display_name": "Python 3 (ipykernel)",
   "language": "python",
   "name": "python3"
  },
  "language_info": {
   "codemirror_mode": {
    "name": "ipython",
    "version": 3
   },
   "file_extension": ".py",
   "mimetype": "text/x-python",
   "name": "python",
   "nbconvert_exporter": "python",
   "pygments_lexer": "ipython3",
   "version": "3.8.10"
  }
 },
 "nbformat": 4,
 "nbformat_minor": 2
}
