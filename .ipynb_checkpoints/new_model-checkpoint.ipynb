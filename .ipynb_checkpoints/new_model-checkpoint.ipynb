{
 "cells": [
  {
   "cell_type": "code",
   "execution_count": 1,
   "metadata": {},
   "outputs": [],
   "source": [
    "import numpy\n",
    "import pandas\n",
    "import json"
   ]
  },
  {
   "cell_type": "code",
   "execution_count": 2,
   "metadata": {},
   "outputs": [
    {
     "name": "stderr",
     "output_type": "stream",
     "text": [
      "2023-03-08 16:40:55.070592: I tensorflow/core/platform/cpu_feature_guard.cc:194] This TensorFlow binary is optimized with oneAPI Deep Neural Network Library (oneDNN) to use the following CPU instructions in performance-critical operations:  SSE3 SSE4.1 SSE4.2 AVX\n",
      "To enable them in other operations, rebuild TensorFlow with the appropriate compiler flags.\n"
     ]
    }
   ],
   "source": [
    "import tensorflow as tf\n",
    "from tensorflow import keras"
   ]
  },
  {
   "cell_type": "code",
   "execution_count": 3,
   "metadata": {},
   "outputs": [],
   "source": [
    "chromosomes = None\n",
    "# with open('./chromosomes/new_cromosomes_mutated.json') as f:\n",
    "with open('./chromosomes/newly_bred.json') as f:\n",
    "    chromosomes = json.load(f)"
   ]
  },
  {
   "cell_type": "code",
   "execution_count": 4,
   "metadata": {},
   "outputs": [
    {
     "data": {
      "text/plain": [
       "[0.9413741931281152]"
      ]
     },
     "execution_count": 4,
     "metadata": {},
     "output_type": "execute_result"
    }
   ],
   "source": [
    "chromosomes['0'][1:]"
   ]
  },
  {
   "cell_type": "code",
   "execution_count": 5,
   "metadata": {},
   "outputs": [],
   "source": [
    "for key, value in chromosomes.items():\n",
    "    chromosomes[key].append(chromosomes[key][0].count(0))\n",
    "    chromosomes[key].append(chromosomes[key][0].count(1))\n",
    "    chromosomes[key][1] = chromosomes[key][1]*100"
   ]
  },
  {
   "cell_type": "code",
   "execution_count": 6,
   "metadata": {},
   "outputs": [],
   "source": [
    "# sort chromosomes by fitness\n",
    "chromosomes = sorted(chromosomes.items(), key=lambda x: x[1][1], reverse=True)"
   ]
  },
  {
   "cell_type": "code",
   "execution_count": 7,
   "metadata": {},
   "outputs": [
    {
     "name": "stdout",
     "output_type": "stream",
     "text": [
      "[95.94251388190264, 112, 144]\n",
      "[95.8737893318118, 95, 161]\n",
      "[95.81797206734596, 99, 157]\n",
      "[95.81287592888302, 103, 153]\n",
      "[95.79983641010934, 101, 155]\n",
      "[95.72324010934781, 98, 158]\n",
      "[95.67791653430331, 101, 155]\n",
      "[95.63651300725058, 92, 164]\n",
      "[95.62021275046153, 103, 153]\n",
      "[95.58710910532612, 106, 150]\n",
      "[95.57951300850497, 110, 146]\n",
      "[95.57862808230212, 96, 160]\n",
      "[95.56348678685315, 108, 148]\n",
      "[95.55322598348445, 109, 147]\n",
      "[95.52484320723043, 109, 147]\n",
      "[95.50890218736814, 103, 153]\n",
      "[95.50828318598917, 95, 161]\n",
      "[95.46346344620973, 90, 166]\n",
      "[95.44922937427502, 109, 147]\n",
      "[95.43470839971798, 99, 157]\n",
      "[95.39345946949103, 92, 164]\n",
      "[95.38959732721082, 105, 151]\n",
      "[95.3691249782831, 97, 159]\n",
      "[95.34784812543751, 103, 153]\n",
      "[95.3343864507056, 95, 161]\n",
      "[95.33280528743246, 108, 148]\n",
      "[95.3011526227844, 101, 155]\n",
      "[95.29811301496892, 108, 148]\n",
      "[95.29595362417065, 98, 158]\n",
      "[95.29454232161288, 99, 157]\n",
      "[95.25053305544735, 95, 161]\n",
      "[95.24381922860591, 106, 150]\n",
      "[95.23640992823202, 96, 160]\n",
      "[95.20945422081085, 108, 148]\n",
      "[95.19965085475752, 107, 149]\n",
      "[95.17304555249785, 106, 150]\n",
      "[95.16849098070448, 91, 165]\n",
      "[95.16056656504111, 98, 158]\n",
      "[95.15125316598022, 97, 159]\n",
      "[95.13573925204074, 103, 153]\n",
      "[95.08414407590294, 117, 139]\n",
      "[94.99655810721002, 88, 168]\n",
      "[94.97717896354717, 81, 175]\n",
      "[94.9751052741246, 114, 142]\n",
      "[94.93570272125473, 93, 163]\n",
      "[94.89753464768255, 96, 160]\n",
      "[94.8816018790338, 89, 167]\n",
      "[94.87770863937199, 95, 161]\n",
      "[94.869101963617, 97, 159]\n",
      "[94.7709494237019, 95, 161]\n",
      "[94.76676351995586, 98, 158]\n",
      "[94.68256374489117, 102, 154]\n",
      "[94.64686055121267, 98, 158]\n",
      "[94.61064609679414, 101, 155]\n",
      "[94.60781446031373, 102, 154]\n",
      "[94.59873503340268, 98, 158]\n",
      "[94.58128117625185, 106, 150]\n",
      "[94.56382038091498, 126, 130]\n",
      "[94.41323307175212, 106, 150]\n",
      "[94.38943845141623, 98, 158]\n",
      "[94.3668536284487, 117, 139]\n",
      "[94.33558354328515, 95, 161]\n",
      "[94.22666584682851, 105, 151]\n",
      "[94.22302913313378, 103, 153]\n",
      "[94.18440058827102, 95, 161]\n",
      "[94.13741931281152, 105, 151]\n",
      "[94.11304855103057, 83, 173]\n",
      "[93.9934687612183, 106, 150]\n",
      "[93.951683486937, 108, 148]\n",
      "[93.9436694903552, 95, 161]\n",
      "[93.76809510722718, 112, 144]\n",
      "[93.68801905253264, 105, 151]\n",
      "[93.66984191002149, 102, 154]\n",
      "[93.60264918241984, 98, 158]\n",
      "[93.46292208109655, 109, 147]\n",
      "[93.33345662480437, 106, 150]\n",
      "[92.66877342362419, 103, 153]\n",
      "[92.00701298104774, 96, 160]\n",
      "[91.7688910532615, 109, 147]\n",
      "[91.08678748505709, 95, 161]\n"
     ]
    }
   ],
   "source": [
    "for key, value in chromosomes:\n",
    "    print(value[1:])"
   ]
  },
  {
   "cell_type": "code",
   "execution_count": 8,
   "metadata": {},
   "outputs": [],
   "source": [
    "import generate_sub_model as gsm"
   ]
  },
  {
   "cell_type": "code",
   "execution_count": 9,
   "metadata": {},
   "outputs": [
    {
     "name": "stderr",
     "output_type": "stream",
     "text": [
      "2023-03-08 16:41:44.301381: I tensorflow/core/platform/cpu_feature_guard.cc:194] This TensorFlow binary is optimized with oneAPI Deep Neural Network Library (oneDNN) to use the following CPU instructions in performance-critical operations:  SSE3 SSE4.1 SSE4.2 AVX\n",
      "To enable them in other operations, rebuild TensorFlow with the appropriate compiler flags.\n",
      "2023-03-08 16:41:44.443573: I tensorflow/core/common_runtime/gpu/gpu_device.cc:1621] Created device /job:localhost/replica:0/task:0/device:GPU:0 with 14786 MB memory:  -> device: 0, name: Tesla V100-SXM2-16GB, pci bus id: 0000:8a:00.0, compute capability: 7.0\n"
     ]
    }
   ],
   "source": [
    "model = keras.models.load_model('./models/base_model.h5')"
   ]
  },
  {
   "cell_type": "code",
   "execution_count": 40,
   "metadata": {},
   "outputs": [],
   "source": [
    "new_model = gsm.genSubModel(chromosomes[0][1][0], model)"
   ]
  },
  {
   "cell_type": "code",
   "execution_count": 10,
   "metadata": {},
   "outputs": [],
   "source": [
    "from test_train_data import x_train, y_train, x_test, y_test"
   ]
  },
  {
   "cell_type": "code",
   "execution_count": 42,
   "metadata": {},
   "outputs": [],
   "source": [
    "new_model.compile(optimizer='adam',\n",
    "                    loss='binary_crossentropy', metrics=['accuracy', 'Precision'])"
   ]
  },
  {
   "cell_type": "code",
   "execution_count": 43,
   "metadata": {},
   "outputs": [
    {
     "name": "stdout",
     "output_type": "stream",
     "text": [
      "Epoch 1/15\n"
     ]
    },
    {
     "name": "stderr",
     "output_type": "stream",
     "text": [
      "2023-03-08 14:46:18.587294: I tensorflow/compiler/xla/stream_executor/cuda/cuda_dnn.cc:428] Loaded cuDNN version 8700\n",
      "2023-03-08 14:46:18.818356: I tensorflow/compiler/xla/service/service.cc:173] XLA service 0x7fced899b6b0 initialized for platform CUDA (this does not guarantee that XLA will be used). Devices:\n",
      "2023-03-08 14:46:18.818406: I tensorflow/compiler/xla/service/service.cc:181]   StreamExecutor device (0): Tesla V100-SXM2-16GB, Compute Capability 7.0\n",
      "2023-03-08 14:46:18.825024: I tensorflow/compiler/mlir/tensorflow/utils/dump_mlir_util.cc:268] disabling MLIR crash reproducer, set env var `MLIR_CRASH_REPRODUCER_DIRECTORY` to enable.\n",
      "2023-03-08 14:46:18.957397: I tensorflow/compiler/jit/xla_compilation_cache.cc:480] Compiled cluster using XLA!  This line is logged at most once for the lifetime of the process.\n"
     ]
    },
    {
     "name": "stdout",
     "output_type": "stream",
     "text": [
      "324/324 [==============================] - 7s 12ms/step - loss: 0.1785 - accuracy: 0.9291 - precision: 0.8728 - val_loss: 0.1160 - val_accuracy: 0.9577 - val_precision: 0.9216\n",
      "Epoch 2/15\n",
      "324/324 [==============================] - 3s 8ms/step - loss: 0.0884 - accuracy: 0.9685 - precision: 0.9390 - val_loss: 0.1140 - val_accuracy: 0.9513 - val_precision: 0.8658\n",
      "Epoch 3/15\n",
      "324/324 [==============================] - 3s 8ms/step - loss: 0.0566 - accuracy: 0.9794 - precision: 0.9590 - val_loss: 0.0833 - val_accuracy: 0.9722 - val_precision: 0.9388\n",
      "Epoch 4/15\n",
      "324/324 [==============================] - 3s 8ms/step - loss: 0.0404 - accuracy: 0.9861 - precision: 0.9741 - val_loss: 0.0865 - val_accuracy: 0.9687 - val_precision: 0.9246\n",
      "Epoch 5/15\n",
      "324/324 [==============================] - 3s 8ms/step - loss: 0.0341 - accuracy: 0.9888 - precision: 0.9769 - val_loss: 0.1014 - val_accuracy: 0.9687 - val_precision: 0.9685\n",
      "Epoch 6/15\n",
      "324/324 [==============================] - 3s 8ms/step - loss: 0.0292 - accuracy: 0.9896 - precision: 0.9780 - val_loss: 0.0854 - val_accuracy: 0.9745 - val_precision: 0.9723\n",
      "Epoch 7/15\n",
      "324/324 [==============================] - 3s 8ms/step - loss: 0.0260 - accuracy: 0.9904 - precision: 0.9831 - val_loss: 0.1406 - val_accuracy: 0.9539 - val_precision: 0.8725\n",
      "Epoch 8/15\n",
      "324/324 [==============================] - 3s 8ms/step - loss: 0.0244 - accuracy: 0.9911 - precision: 0.9821 - val_loss: 0.1112 - val_accuracy: 0.9719 - val_precision: 0.9774\n",
      "Epoch 9/15\n",
      "324/324 [==============================] - 3s 8ms/step - loss: 0.0131 - accuracy: 0.9958 - precision: 0.9914 - val_loss: 0.0977 - val_accuracy: 0.9699 - val_precision: 0.9215\n",
      "Epoch 10/15\n",
      "324/324 [==============================] - 3s 8ms/step - loss: 0.0105 - accuracy: 0.9965 - precision: 0.9936 - val_loss: 0.1043 - val_accuracy: 0.9733 - val_precision: 0.9464\n",
      "Epoch 11/15\n",
      "324/324 [==============================] - 3s 8ms/step - loss: 0.0221 - accuracy: 0.9918 - precision: 0.9850 - val_loss: 0.1014 - val_accuracy: 0.9716 - val_precision: 0.9538\n",
      "Epoch 12/15\n",
      "324/324 [==============================] - 3s 8ms/step - loss: 0.0122 - accuracy: 0.9958 - precision: 0.9925 - val_loss: 0.1148 - val_accuracy: 0.9728 - val_precision: 0.9520\n",
      "Epoch 13/15\n",
      "324/324 [==============================] - 3s 8ms/step - loss: 0.0187 - accuracy: 0.9924 - precision: 0.9861 - val_loss: 0.1082 - val_accuracy: 0.9731 - val_precision: 0.9609\n",
      "Epoch 14/15\n",
      "324/324 [==============================] - 3s 8ms/step - loss: 0.0159 - accuracy: 0.9939 - precision: 0.9895 - val_loss: 0.1404 - val_accuracy: 0.9667 - val_precision: 0.9164\n",
      "Epoch 15/15\n",
      "324/324 [==============================] - 3s 8ms/step - loss: 0.0127 - accuracy: 0.9952 - precision: 0.9903 - val_loss: 0.1297 - val_accuracy: 0.9731 - val_precision: 0.9732\n"
     ]
    },
    {
     "data": {
      "text/plain": [
       "<keras.callbacks.History at 0x7fd0bc037430>"
      ]
     },
     "execution_count": 43,
     "metadata": {},
     "output_type": "execute_result"
    }
   ],
   "source": [
    "new_model.fit(x_train, y_train, epochs=15, validation_data=(x_test, y_test))"
   ]
  },
  {
   "cell_type": "code",
   "execution_count": 44,
   "metadata": {},
   "outputs": [
    {
     "data": {
      "text/plain": [
       "[0.12966877222061157, 0.9730591177940369, 0.9732441306114197]"
      ]
     },
     "execution_count": 44,
     "metadata": {},
     "output_type": "execute_result"
    }
   ],
   "source": [
    "new_model.evaluate(x_test, y_test, verbose=0)"
   ]
  },
  {
   "cell_type": "code",
   "execution_count": 49,
   "metadata": {},
   "outputs": [],
   "source": [
    "# save the model\n",
    "new_model.save('./models/new_model_best_acc.h5')"
   ]
  },
  {
   "cell_type": "code",
   "execution_count": 47,
   "metadata": {},
   "outputs": [],
   "source": [
    "# sort chromosomes by fitness\n",
    "chromosomes = sorted(chromosomes, key=lambda x: x[1][2], reverse=True)"
   ]
  },
  {
   "cell_type": "code",
   "execution_count": 48,
   "metadata": {},
   "outputs": [
    {
     "name": "stdout",
     "output_type": "stream",
     "text": [
      "[95.30586846762046, 91, 165]\n",
      "[95.33762725918143, 86, 170]\n",
      "[96.34711592432451, 85, 171]\n",
      "[95.5743108367333, 84, 172]\n",
      "[95.94326629815222, 83, 173]\n",
      "[95.71679582348634, 83, 173]\n",
      "[95.60251410738316, 83, 173]\n",
      "[95.41330511017671, 83, 173]\n",
      "[95.94619444958575, 82, 174]\n",
      "[95.58914315855091, 82, 174]\n"
     ]
    }
   ],
   "source": [
    "for i in chromosomes[:10]:\n",
    "    print(i[1][1:])"
   ]
  },
  {
   "cell_type": "code",
   "execution_count": 50,
   "metadata": {},
   "outputs": [],
   "source": [
    "new_model = gsm.genSubModel(chromosomes[0][1][0], model)"
   ]
  },
  {
   "cell_type": "code",
   "execution_count": 51,
   "metadata": {},
   "outputs": [],
   "source": [
    "new_model.compile(optimizer='adam',\n",
    "                    loss='binary_crossentropy', metrics=['accuracy', 'Precision'])"
   ]
  },
  {
   "cell_type": "code",
   "execution_count": 52,
   "metadata": {},
   "outputs": [
    {
     "name": "stdout",
     "output_type": "stream",
     "text": [
      "Epoch 1/15\n",
      "324/324 [==============================] - 6s 12ms/step - loss: 0.1997 - accuracy: 0.9266 - precision: 0.8695 - val_loss: 0.2111 - val_accuracy: 0.9203 - val_precision: 0.9799\n",
      "Epoch 2/15\n",
      "324/324 [==============================] - 3s 8ms/step - loss: 0.1115 - accuracy: 0.9608 - precision: 0.9228 - val_loss: 0.1320 - val_accuracy: 0.9594 - val_precision: 0.9707\n",
      "Epoch 3/15\n",
      "324/324 [==============================] - 3s 8ms/step - loss: 0.0829 - accuracy: 0.9716 - precision: 0.9444 - val_loss: 0.1128 - val_accuracy: 0.9629 - val_precision: 0.9522\n",
      "Epoch 4/15\n",
      "324/324 [==============================] - 3s 8ms/step - loss: 0.0617 - accuracy: 0.9787 - precision: 0.9582 - val_loss: 0.1029 - val_accuracy: 0.9606 - val_precision: 0.9207\n",
      "Epoch 5/15\n",
      "324/324 [==============================] - 3s 8ms/step - loss: 0.0521 - accuracy: 0.9822 - precision: 0.9632 - val_loss: 0.1020 - val_accuracy: 0.9670 - val_precision: 0.9490\n",
      "Epoch 6/15\n",
      "324/324 [==============================] - 3s 8ms/step - loss: 0.0397 - accuracy: 0.9848 - precision: 0.9687 - val_loss: 0.1060 - val_accuracy: 0.9673 - val_precision: 0.9570\n",
      "Epoch 7/15\n",
      "324/324 [==============================] - 3s 8ms/step - loss: 0.0365 - accuracy: 0.9868 - precision: 0.9760 - val_loss: 0.1224 - val_accuracy: 0.9563 - val_precision: 0.8928\n",
      "Epoch 8/15\n",
      "324/324 [==============================] - 3s 8ms/step - loss: 0.0319 - accuracy: 0.9876 - precision: 0.9768 - val_loss: 0.1353 - val_accuracy: 0.9644 - val_precision: 0.9505\n",
      "Epoch 9/15\n",
      "324/324 [==============================] - 3s 8ms/step - loss: 0.0276 - accuracy: 0.9900 - precision: 0.9813 - val_loss: 0.1302 - val_accuracy: 0.9664 - val_precision: 0.9651\n",
      "Epoch 10/15\n",
      "324/324 [==============================] - 3s 8ms/step - loss: 0.0209 - accuracy: 0.9930 - precision: 0.9865 - val_loss: 0.1366 - val_accuracy: 0.9644 - val_precision: 0.9701\n",
      "Epoch 11/15\n",
      "324/324 [==============================] - 3s 8ms/step - loss: 0.0146 - accuracy: 0.9954 - precision: 0.9903 - val_loss: 0.1227 - val_accuracy: 0.9681 - val_precision: 0.9571\n",
      "Epoch 12/15\n",
      "324/324 [==============================] - 3s 8ms/step - loss: 0.0180 - accuracy: 0.9933 - precision: 0.9876 - val_loss: 0.1688 - val_accuracy: 0.9603 - val_precision: 0.9548\n",
      "Epoch 13/15\n",
      "324/324 [==============================] - 3s 8ms/step - loss: 0.0144 - accuracy: 0.9948 - precision: 0.9903 - val_loss: 0.1552 - val_accuracy: 0.9681 - val_precision: 0.9695\n",
      "Epoch 14/15\n",
      "324/324 [==============================] - 3s 8ms/step - loss: 0.0067 - accuracy: 0.9980 - precision: 0.9959 - val_loss: 0.1747 - val_accuracy: 0.9670 - val_precision: 0.9510\n",
      "Epoch 15/15\n",
      "324/324 [==============================] - 3s 8ms/step - loss: 0.0226 - accuracy: 0.9923 - precision: 0.9850 - val_loss: 0.1580 - val_accuracy: 0.9652 - val_precision: 0.9628\n"
     ]
    },
    {
     "data": {
      "text/plain": [
       "<keras.callbacks.History at 0x7fcff408ea90>"
      ]
     },
     "execution_count": 52,
     "metadata": {},
     "output_type": "execute_result"
    }
   ],
   "source": [
    "new_model.fit(x_train, y_train, epochs=15, validation_data=(x_test, y_test))"
   ]
  },
  {
   "cell_type": "code",
   "execution_count": 53,
   "metadata": {},
   "outputs": [
    {
     "data": {
      "text/plain": [
       "[0.15797297656536102, 0.965237557888031, 0.962837815284729]"
      ]
     },
     "execution_count": 53,
     "metadata": {},
     "output_type": "execute_result"
    }
   ],
   "source": [
    "new_model.evaluate(x_test, y_test, verbose=0)"
   ]
  },
  {
   "cell_type": "code",
   "execution_count": 54,
   "metadata": {},
   "outputs": [],
   "source": [
    "# save the model\n",
    "new_model.save('./models/new_model_best_compression.h5')"
   ]
  },
  {
   "cell_type": "code",
   "execution_count": null,
   "metadata": {},
   "outputs": [],
   "source": []
  }
 ],
 "metadata": {
  "kernelspec": {
   "display_name": "Python 3 (ipykernel)",
   "language": "python",
   "name": "python3"
  },
  "language_info": {
   "codemirror_mode": {
    "name": "ipython",
    "version": 3
   },
   "file_extension": ".py",
   "mimetype": "text/x-python",
   "name": "python",
   "nbconvert_exporter": "python",
   "pygments_lexer": "ipython3",
   "version": "3.8.10"
  }
 },
 "nbformat": 4,
 "nbformat_minor": 2
}
