{
 "cells": [
  {
   "cell_type": "code",
   "execution_count": 1,
   "metadata": {},
   "outputs": [],
   "source": [
    "import cv2\n",
    "import os\n",
    "import numpy as np\n",
    "from sklearn.model_selection import train_test_split\n"
   ]
  },
  {
   "cell_type": "code",
   "execution_count": 2,
   "metadata": {},
   "outputs": [],
   "source": [
    "\n",
    "\n",
    "def loadImages(path, urls,target ):\n",
    "  images = []\n",
    "  labels = []\n",
    "  #for i in range(len(urls))\n",
    "  for i in range(len(urls)):\n",
    "    img_path = path + \"/\" + urls[i]\n",
    "    img = cv2.imread(img_path)\n",
    "    img = img / 255.0\n",
    "    # if we want to resize the images\n",
    "    img = cv2.resize(img, (100, 100))\n",
    "    images.append(img)\n",
    "    labels.append(target)\n",
    "  images = np.asarray(images)\n",
    "  return images, labels\n",
    "\n",
    "\n",
    "covid_path = \"./../data/COVID-19_Radiography_Dataset/COVID/images\"\n",
    "covidUrl = os.listdir(covid_path)\n",
    "covidImages, covidTargets = loadImages(covid_path, covidUrl, 1)\n",
    "\n",
    "normal_path = \"./../data/COVID-19_Radiography_Dataset/Normal/images\"\n",
    "normal_urls = os.listdir(normal_path)\n",
    "normalImages, normalTargets = loadImages(normal_path, normal_urls, 0)\n",
    "\n",
    "covidImages=np.asarray(covidImages)\n",
    "\n",
    "normalImages=np.asarray(normalImages)\n",
    "\n",
    "data = np.r_[covidImages, normalImages]\n",
    "\n",
    "targets = np.r_[covidTargets, normalTargets]\n",
    "\n",
    "\n",
    "\n",
    "x_train, x_test, y_train, y_test = train_test_split(data, targets, test_size=0.25)\n",
    "\n",
    "# flatten the images\n",
    "x_train = x_train.reshape(x_train.shape[0], -1)\n",
    "x_test = x_test.reshape(x_test.shape[0], -1)"
   ]
  },
  {
   "cell_type": "code",
   "execution_count": 3,
   "metadata": {},
   "outputs": [
    {
     "name": "stderr",
     "output_type": "stream",
     "text": [
      "/usr/local/lib/python3.8/dist-packages/sklearn/linear_model/_logistic.py:763: ConvergenceWarning: lbfgs failed to converge (status=1):\n",
      "STOP: TOTAL NO. of ITERATIONS REACHED LIMIT.\n",
      "\n",
      "Increase the number of iterations (max_iter) or scale the data as shown in:\n",
      "    https://scikit-learn.org/stable/modules/preprocessing.html\n",
      "Please also refer to the documentation for alternative solver options:\n",
      "    https://scikit-learn.org/stable/modules/linear_model.html#logistic-regression\n",
      "  n_iter_i = _check_optimize_result(\n"
     ]
    },
    {
     "data": {
      "text/plain": [
       "LogisticRegression()"
      ]
     },
     "execution_count": 3,
     "metadata": {},
     "output_type": "execute_result"
    }
   ],
   "source": [
    "# train the model\n",
    "from sklearn.linear_model import LogisticRegression\n",
    "model = LogisticRegression()\n",
    "model.fit(x_train, y_train)"
   ]
  },
  {
   "cell_type": "code",
   "execution_count": 4,
   "metadata": {},
   "outputs": [
    {
     "name": "stdout",
     "output_type": "stream",
     "text": [
      "Accuracy:  0.8450173812282734\n"
     ]
    }
   ],
   "source": [
    "# test the model\n",
    "y_pred = model.predict(x_test)\n",
    "\n",
    "# calculate the accuracy\n",
    "from sklearn.metrics import accuracy_score\n",
    "print(\"Accuracy: \", accuracy_score(y_test, y_pred))"
   ]
  },
  {
   "cell_type": "code",
   "execution_count": null,
   "metadata": {},
   "outputs": [],
   "source": []
  }
 ],
 "metadata": {
  "kernelspec": {
   "display_name": "Python 3 (ipykernel)",
   "language": "python",
   "name": "python3"
  },
  "orig_nbformat": 4
 },
 "nbformat": 4,
 "nbformat_minor": 2
}
