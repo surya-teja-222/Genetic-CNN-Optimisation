{
 "cells": [
  {
   "cell_type": "code",
   "execution_count": 1,
   "metadata": {},
   "outputs": [
    {
     "name": "stderr",
     "output_type": "stream",
     "text": [
      "2023-03-05 16:17:20.415972: I tensorflow/core/platform/cpu_feature_guard.cc:194] This TensorFlow binary is optimized with oneAPI Deep Neural Network Library (oneDNN) to use the following CPU instructions in performance-critical operations:  SSE3 SSE4.1 SSE4.2 AVX\n",
      "To enable them in other operations, rebuild TensorFlow with the appropriate compiler flags.\n"
     ]
    }
   ],
   "source": [
    "import tensorflow as tf\n",
    "from tensorflow.keras.applications import ResNet50\n",
    "from tensorflow.keras.preprocessing.image import ImageDataGenerator"
   ]
  },
  {
   "cell_type": "code",
   "execution_count": 2,
   "metadata": {},
   "outputs": [],
   "source": [
    "import cv2\n",
    "import os\n",
    "import numpy as np"
   ]
  },
  {
   "cell_type": "code",
   "execution_count": 3,
   "metadata": {},
   "outputs": [],
   "source": [
    "\n",
    "\n",
    "def loadImages(path, urls,target ):\n",
    "  images = []\n",
    "  labels = []\n",
    "  #for i in range(len(urls))\n",
    "  for i in range(len(urls)):\n",
    "    img_path = path + \"/\" + urls[i]\n",
    "    img = cv2.imread(img_path)\n",
    "    img = img / 255.0\n",
    "    # if we want to resize the images\n",
    "    img = cv2.resize(img, (100, 100))\n",
    "    images.append(img)\n",
    "    labels.append(target)\n",
    "  images = np.asarray(images)\n",
    "  return images, labels\n",
    "\n",
    "\n",
    "covid_path = \"./../data/COVID-19_Radiography_Dataset/COVID/images\"\n",
    "covidUrl = os.listdir(covid_path)\n",
    "covidImages, covidTargets = loadImages(covid_path, covidUrl, 1)\n",
    "\n",
    "normal_path = \"./../data/COVID-19_Radiography_Dataset/Normal/images\"\n",
    "normal_urls = os.listdir(normal_path)\n",
    "normalImages, normalTargets = loadImages(normal_path, normal_urls, 0)\n",
    "\n",
    "covidImages=np.asarray(covidImages)\n",
    "\n",
    "normalImages=np.asarray(normalImages)\n",
    "\n",
    "data = np.r_[covidImages, normalImages]\n",
    "\n",
    "targets = np.r_[covidTargets, normalTargets]\n",
    "\n",
    "\n",
    "from sklearn.model_selection import train_test_split\n",
    "\n",
    "\n",
    "x_train, x_test, y_train, y_test = train_test_split(data, targets, test_size=0.25)\n"
   ]
  },
  {
   "cell_type": "code",
   "execution_count": null,
   "metadata": {},
   "outputs": [],
   "source": []
  }
 ],
 "metadata": {
  "kernelspec": {
   "display_name": "Python 3 (ipykernel)",
   "language": "python",
   "name": "python3"
  },
  "language_info": {
   "codemirror_mode": {
    "name": "ipython",
    "version": 3
   },
   "file_extension": ".py",
   "mimetype": "text/x-python",
   "name": "python",
   "nbconvert_exporter": "python",
   "pygments_lexer": "ipython3",
   "version": "3.8.10"
  }
 },
 "nbformat": 4,
 "nbformat_minor": 2
}
