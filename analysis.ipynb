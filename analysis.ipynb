{
 "cells": [
  {
   "cell_type": "code",
   "execution_count": 1,
   "metadata": {},
   "outputs": [],
   "source": [
    "import numpy as np\n",
    "import pandas as pd\n",
    "import matplotlib.pyplot as plt\n",
    "import seaborn as sns\n",
    "import json"
   ]
  },
  {
   "cell_type": "code",
   "execution_count": 2,
   "metadata": {},
   "outputs": [
    {
     "name": "stderr",
     "output_type": "stream",
     "text": [
      "2023-03-04 17:28:26.955055: I tensorflow/core/platform/cpu_feature_guard.cc:194] This TensorFlow binary is optimized with oneAPI Deep Neural Network Library (oneDNN) to use the following CPU instructions in performance-critical operations:  SSE3 SSE4.1 SSE4.2 AVX\n",
      "To enable them in other operations, rebuild TensorFlow with the appropriate compiler flags.\n"
     ]
    }
   ],
   "source": [
    "import tensorflow as tf\n",
    "from tensorflow import keras"
   ]
  },
  {
   "cell_type": "code",
   "execution_count": 3,
   "metadata": {},
   "outputs": [],
   "source": [
    "# read chromosomes\n",
    "initial_acc = 0.9820393919944763"
   ]
  },
  {
   "cell_type": "code",
   "execution_count": 4,
   "metadata": {},
   "outputs": [],
   "source": [
    "# mutated chromosomes\n",
    "chromosomes = None\n",
    "with open('chromosomes/new_cromosomes_mutated.json') as f:\n",
    "    chromosomes = json.load(f)"
   ]
  },
  {
   "cell_type": "code",
   "execution_count": 5,
   "metadata": {},
   "outputs": [],
   "source": [
    "for key, value in chromosomes.items():\n",
    "    chromosomes[key].append(chromosomes[key][0].count(0))\n",
    "    chromosomes[key].append(chromosomes[key][0].count(1))\n",
    "    chromosomes[key][1] = chromosomes[key][1]*100"
   ]
  },
  {
   "cell_type": "code",
   "execution_count": 6,
   "metadata": {},
   "outputs": [],
   "source": [
    "# sort based on accuracy and number of 0s\n",
    "chromosomes = {k: v for k, v in sorted(chromosomes.items(), key=lambda item: (item[1][2]), reverse=True)}"
   ]
  },
  {
   "cell_type": "code",
   "execution_count": 7,
   "metadata": {},
   "outputs": [
    {
     "data": {
      "text/plain": [
       "256"
      ]
     },
     "execution_count": 7,
     "metadata": {},
     "output_type": "execute_result"
    }
   ],
   "source": [
    "len(chromosomes['1'][0])"
   ]
  },
  {
   "cell_type": "code",
   "execution_count": 8,
   "metadata": {},
   "outputs": [
    {
     "name": "stdout",
     "output_type": "stream",
     "text": [
      "18 97.07415699958801 102\n",
      "21 96.81344032287598 102\n",
      "62 96.72653675079346 91\n",
      "68 96.90034985542297 89\n",
      "71 97.19003438949585 89\n",
      "14 96.61065936088562 88\n",
      "30 96.6685950756073 88\n",
      "11 96.69756889343262 87\n",
      "54 96.61065936088562 86\n",
      "40 96.78447246551514 85\n",
      "23 96.9872534275055 84\n",
      "36 97.07415699958801 84\n",
      "37 97.01622128486633 84\n",
      "2 96.78447246551514 83\n",
      "28 96.90034985542297 83\n",
      "33 96.92931771278381 83\n",
      "51 96.90034985542297 83\n",
      "20 96.87137603759766 82\n",
      "25 96.63962721824646 82\n",
      "26 96.5237557888031 82\n",
      "65 96.95828557014465 82\n",
      "76 97.01622128486633 82\n",
      "79 96.55272364616394 82\n",
      "3 96.58169150352478 81\n",
      "22 96.08922600746155 81\n",
      "24 97.16106653213501 81\n",
      "35 96.81344032287598 81\n",
      "53 97.13209867477417 81\n",
      "27 96.95828557014465 80\n",
      "29 96.95828557014465 80\n",
      "59 96.6685950756073 80\n",
      "77 96.63962721824646 80\n",
      "15 96.9872534275055 79\n",
      "49 97.04518914222717 79\n",
      "50 97.45075106620789 79\n",
      "58 96.4368462562561 79\n",
      "60 97.42178320884705 79\n",
      "31 96.9872534275055 78\n",
      "47 96.92931771278381 78\n",
      "52 97.19003438949585 78\n",
      "57 96.7555046081543 78\n",
      "67 97.01622128486633 78\n",
      "55 96.90034985542297 77\n",
      "19 97.10313081741333 76\n",
      "32 96.32097482681274 76\n",
      "43 96.17612957954407 76\n",
      "61 96.84240818023682 76\n",
      "6 96.55272364616394 75\n",
      "48 96.84240818023682 75\n",
      "56 97.16106653213501 75\n",
      "1 96.40787839889526 74\n",
      "8 97.04518914222717 74\n",
      "39 96.61065936088562 74\n",
      "46 97.04518914222717 74\n",
      "70 96.49478793144226 74\n",
      "4 97.10313081741333 73\n",
      "9 96.72653675079346 73\n",
      "16 97.01622128486633 73\n",
      "45 96.63962721824646 73\n",
      "69 96.2920069694519 73\n",
      "12 96.90034985542297 72\n",
      "78 97.10313081741333 72\n",
      "10 96.95828557014465 71\n",
      "13 96.81344032287598 71\n",
      "5 96.87137603759766 70\n",
      "66 96.7555046081543 70\n",
      "73 96.61065936088562 70\n",
      "75 96.92931771278381 70\n",
      "7 96.55272364616394 69\n",
      "17 96.63962721824646 69\n",
      "42 96.81344032287598 68\n",
      "44 97.24797010421753 68\n",
      "72 96.72653675079346 68\n",
      "74 97.10313081741333 68\n",
      "38 97.30591177940369 67\n",
      "64 97.42178320884705 65\n",
      "63 96.87137603759766 64\n",
      "41 97.07415699958801 62\n",
      "0 95.74159979820251 61\n",
      "34 97.27693796157837 60\n"
     ]
    }
   ],
   "source": [
    "for key, value in chromosomes.items():\n",
    "    print(key, value[1], value[2])"
   ]
  },
  {
   "cell_type": "code",
   "execution_count": 9,
   "metadata": {},
   "outputs": [
    {
     "name": "stderr",
     "output_type": "stream",
     "text": [
      "2023-03-04 17:29:10.956199: I tensorflow/core/platform/cpu_feature_guard.cc:194] This TensorFlow binary is optimized with oneAPI Deep Neural Network Library (oneDNN) to use the following CPU instructions in performance-critical operations:  SSE3 SSE4.1 SSE4.2 AVX\n",
      "To enable them in other operations, rebuild TensorFlow with the appropriate compiler flags.\n",
      "2023-03-04 17:29:11.114362: I tensorflow/core/common_runtime/gpu/gpu_device.cc:1621] Created device /job:localhost/replica:0/task:0/device:GPU:0 with 14476 MB memory:  -> device: 0, name: Tesla V100-SXM2-16GB, pci bus id: 0000:07:00.0, compute capability: 7.0\n"
     ]
    }
   ],
   "source": [
    "original_model = keras.models.load_model('models/base_model.h5')"
   ]
  },
  {
   "cell_type": "code",
   "execution_count": 10,
   "metadata": {},
   "outputs": [],
   "source": [
    "import generate_sub_model as gsm"
   ]
  },
  {
   "cell_type": "code",
   "execution_count": 11,
   "metadata": {},
   "outputs": [
    {
     "name": "stdout",
     "output_type": "stream",
     "text": [
      "[97.07415699958801, 102, 154]\n"
     ]
    }
   ],
   "source": [
    "print(chromosomes['18'][1:])"
   ]
  },
  {
   "cell_type": "code",
   "execution_count": 12,
   "metadata": {},
   "outputs": [],
   "source": [
    "new_model = gsm.genSubModel(chromosomes['18'][0], original_model)"
   ]
  },
  {
   "cell_type": "code",
   "execution_count": 13,
   "metadata": {},
   "outputs": [
    {
     "ename": "KeyboardInterrupt",
     "evalue": "",
     "output_type": "error",
     "traceback": [
      "\u001b[0;31m---------------------------------------------------------------------------\u001b[0m",
      "\u001b[0;31mKeyboardInterrupt\u001b[0m                         Traceback (most recent call last)",
      "Cell \u001b[0;32mIn[13], line 1\u001b[0m\n\u001b[0;32m----> 1\u001b[0m \u001b[39mimport\u001b[39;00m \u001b[39mfitness\u001b[39;00m \u001b[39mas\u001b[39;00m \u001b[39mfit\u001b[39;00m\n",
      "File \u001b[0;32m/storage/research/un185/covid_min/fitness.py:5\u001b[0m\n\u001b[1;32m      1\u001b[0m \u001b[39mimport\u001b[39;00m \u001b[39mtensorflow\u001b[39;00m \u001b[39mas\u001b[39;00m \u001b[39mtf\u001b[39;00m\n\u001b[1;32m      2\u001b[0m \u001b[39mfrom\u001b[39;00m \u001b[39mtensorflow\u001b[39;00m \u001b[39mimport\u001b[39;00m keras\n\u001b[0;32m----> 5\u001b[0m \u001b[39mfrom\u001b[39;00m \u001b[39mtest_train_data\u001b[39;00m \u001b[39mimport\u001b[39;00m x_train, y_train, x_test, y_test\n\u001b[1;32m      7\u001b[0m \u001b[39mdef\u001b[39;00m \u001b[39mgetFitness\u001b[39m(model, epochs\u001b[39m=\u001b[39m\u001b[39m2\u001b[39m , verbose\u001b[39m=\u001b[39m\u001b[39m0\u001b[39m):\n\u001b[1;32m      8\u001b[0m     model\u001b[39m.\u001b[39mcompile(optimizer\u001b[39m=\u001b[39m\u001b[39m'\u001b[39m\u001b[39madam\u001b[39m\u001b[39m'\u001b[39m,\n\u001b[1;32m      9\u001b[0m                   loss\u001b[39m=\u001b[39m\u001b[39m'\u001b[39m\u001b[39mbinary_crossentropy\u001b[39m\u001b[39m'\u001b[39m,\n\u001b[1;32m     10\u001b[0m                   metrics\u001b[39m=\u001b[39m[\u001b[39m'\u001b[39m\u001b[39maccuracy\u001b[39m\u001b[39m'\u001b[39m])\n",
      "File \u001b[0;32m/storage/research/un185/covid_min/test_train_data.py:24\u001b[0m\n\u001b[1;32m     22\u001b[0m covid_path \u001b[39m=\u001b[39m \u001b[39m\"\u001b[39m\u001b[39mdata/COVID-19_Radiography_Dataset/COVID/images\u001b[39m\u001b[39m\"\u001b[39m\n\u001b[1;32m     23\u001b[0m covidUrl \u001b[39m=\u001b[39m os\u001b[39m.\u001b[39mlistdir(covid_path)\n\u001b[0;32m---> 24\u001b[0m covidImages, covidTargets \u001b[39m=\u001b[39m loadImages(covid_path, covidUrl, \u001b[39m1\u001b[39;49m)\n\u001b[1;32m     26\u001b[0m normal_path \u001b[39m=\u001b[39m \u001b[39m\"\u001b[39m\u001b[39mdata/COVID-19_Radiography_Dataset/Normal/images\u001b[39m\u001b[39m\"\u001b[39m\n\u001b[1;32m     27\u001b[0m normal_urls \u001b[39m=\u001b[39m os\u001b[39m.\u001b[39mlistdir(normal_path)\n",
      "File \u001b[0;32m/storage/research/un185/covid_min/test_train_data.py:13\u001b[0m, in \u001b[0;36mloadImages\u001b[0;34m(path, urls, target)\u001b[0m\n\u001b[1;32m     11\u001b[0m \u001b[39mfor\u001b[39;00m i \u001b[39min\u001b[39;00m \u001b[39mrange\u001b[39m(\u001b[39mlen\u001b[39m(urls)):\n\u001b[1;32m     12\u001b[0m   img_path \u001b[39m=\u001b[39m path \u001b[39m+\u001b[39m \u001b[39m\"\u001b[39m\u001b[39m/\u001b[39m\u001b[39m\"\u001b[39m \u001b[39m+\u001b[39m urls[i]\n\u001b[0;32m---> 13\u001b[0m   img \u001b[39m=\u001b[39m cv2\u001b[39m.\u001b[39;49mimread(img_path)\n\u001b[1;32m     14\u001b[0m   img \u001b[39m=\u001b[39m img \u001b[39m/\u001b[39m \u001b[39m255.0\u001b[39m\n\u001b[1;32m     15\u001b[0m   \u001b[39m# if we want to resize the images\u001b[39;00m\n",
      "\u001b[0;31mKeyboardInterrupt\u001b[0m: "
     ]
    }
   ],
   "source": [
    "import fitness as fit"
   ]
  },
  {
   "cell_type": "code",
   "execution_count": 16,
   "metadata": {},
   "outputs": [
    {
     "name": "stdout",
     "output_type": "stream",
     "text": [
      "Epoch 1/10\n",
      "324/324 [==============================] - 5s 9ms/step - loss: 0.0765 - accuracy: 0.9727 - val_loss: 0.0933 - val_accuracy: 0.9638\n",
      "Epoch 2/10\n",
      "324/324 [==============================] - 3s 9ms/step - loss: 0.0612 - accuracy: 0.9779 - val_loss: 0.0843 - val_accuracy: 0.9681\n",
      "Epoch 3/10\n",
      "324/324 [==============================] - 3s 8ms/step - loss: 0.0517 - accuracy: 0.9810 - val_loss: 0.1014 - val_accuracy: 0.9649\n",
      "Epoch 4/10\n",
      "324/324 [==============================] - 3s 8ms/step - loss: 0.0425 - accuracy: 0.9839 - val_loss: 0.0794 - val_accuracy: 0.9699\n",
      "Epoch 5/10\n",
      "324/324 [==============================] - 3s 8ms/step - loss: 0.0430 - accuracy: 0.9839 - val_loss: 0.1073 - val_accuracy: 0.9641\n",
      "Epoch 6/10\n",
      "324/324 [==============================] - 3s 8ms/step - loss: 0.0305 - accuracy: 0.9892 - val_loss: 0.0799 - val_accuracy: 0.9702\n",
      "Epoch 7/10\n",
      "324/324 [==============================] - 3s 8ms/step - loss: 0.0412 - accuracy: 0.9840 - val_loss: 0.0729 - val_accuracy: 0.9762\n",
      "Epoch 8/10\n",
      "324/324 [==============================] - 3s 8ms/step - loss: 0.0221 - accuracy: 0.9915 - val_loss: 0.1081 - val_accuracy: 0.9667\n",
      "Epoch 9/10\n",
      "324/324 [==============================] - 3s 8ms/step - loss: 0.0148 - accuracy: 0.9949 - val_loss: 0.1168 - val_accuracy: 0.9707\n",
      "Epoch 10/10\n",
      "324/324 [==============================] - 3s 8ms/step - loss: 0.0168 - accuracy: 0.9936 - val_loss: 0.0938 - val_accuracy: 0.9736\n",
      "108/108 [==============================] - 0s 4ms/step - loss: 0.0938 - accuracy: 0.9736\n"
     ]
    },
    {
     "data": {
      "text/plain": [
       "0.9736384749412537"
      ]
     },
     "execution_count": 16,
     "metadata": {},
     "output_type": "execute_result"
    }
   ],
   "source": [
    "fit.getFitness(new_model, epochs=10, verbose=1)"
   ]
  },
  {
   "cell_type": "code",
   "execution_count": 17,
   "metadata": {},
   "outputs": [],
   "source": [
    "# save model\n",
    "new_model.save('models/new_model.h5')"
   ]
  },
  {
   "cell_type": "code",
   "execution_count": 36,
   "metadata": {},
   "outputs": [],
   "source": [
    "new_model = gsm.genSubModel(chromosomes['18'][0], original_model)"
   ]
  },
  {
   "cell_type": "code",
   "execution_count": 15,
   "metadata": {},
   "outputs": [],
   "source": [
    "from test_train_data import x_train, y_train, x_test, y_test"
   ]
  },
  {
   "cell_type": "code",
   "execution_count": 39,
   "metadata": {},
   "outputs": [
    {
     "name": "stdout",
     "output_type": "stream",
     "text": [
      "Epoch 1/30\n",
      "324/324 [==============================] - 6s 11ms/step - loss: 0.0129 - accuracy: 0.9953 - val_loss: 0.1881 - val_accuracy: 0.9699\n",
      "Epoch 2/30\n",
      "324/324 [==============================] - 2s 8ms/step - loss: 0.0066 - accuracy: 0.9978 - val_loss: 0.1736 - val_accuracy: 0.9716\n",
      "Epoch 3/30\n",
      "324/324 [==============================] - 2s 8ms/step - loss: 0.0133 - accuracy: 0.9953 - val_loss: 0.1654 - val_accuracy: 0.9670\n",
      "Epoch 4/30\n",
      "324/324 [==============================] - 3s 8ms/step - loss: 0.0091 - accuracy: 0.9963 - val_loss: 0.2300 - val_accuracy: 0.9638\n",
      "Epoch 5/30\n",
      "324/324 [==============================] - 3s 8ms/step - loss: 0.0151 - accuracy: 0.9939 - val_loss: 0.1676 - val_accuracy: 0.9690\n",
      "Epoch 6/30\n",
      "324/324 [==============================] - 3s 8ms/step - loss: 0.0032 - accuracy: 0.9992 - val_loss: 0.1527 - val_accuracy: 0.9716\n",
      "Epoch 7/30\n",
      "324/324 [==============================] - 3s 8ms/step - loss: 2.7123e-04 - accuracy: 1.0000 - val_loss: 0.1560 - val_accuracy: 0.9739\n",
      "Epoch 8/30\n",
      "324/324 [==============================] - 3s 8ms/step - loss: 7.7039e-05 - accuracy: 1.0000 - val_loss: 0.1610 - val_accuracy: 0.9739\n",
      "Epoch 9/30\n",
      "324/324 [==============================] - 3s 8ms/step - loss: 4.4558e-05 - accuracy: 1.0000 - val_loss: 0.1655 - val_accuracy: 0.9739\n",
      "Epoch 10/30\n",
      "324/324 [==============================] - 3s 8ms/step - loss: 3.1729e-05 - accuracy: 1.0000 - val_loss: 0.1693 - val_accuracy: 0.9739\n",
      "Epoch 11/30\n",
      "324/324 [==============================] - 2s 8ms/step - loss: 2.3870e-05 - accuracy: 1.0000 - val_loss: 0.1732 - val_accuracy: 0.9739\n",
      "Epoch 12/30\n",
      "324/324 [==============================] - 3s 8ms/step - loss: 1.8503e-05 - accuracy: 1.0000 - val_loss: 0.1764 - val_accuracy: 0.9733\n",
      "Epoch 13/30\n",
      "324/324 [==============================] - 3s 8ms/step - loss: 1.4763e-05 - accuracy: 1.0000 - val_loss: 0.1797 - val_accuracy: 0.9736\n",
      "Epoch 14/30\n",
      "324/324 [==============================] - 3s 8ms/step - loss: 1.1947e-05 - accuracy: 1.0000 - val_loss: 0.1829 - val_accuracy: 0.9742\n",
      "Epoch 15/30\n",
      "324/324 [==============================] - 3s 8ms/step - loss: 9.8364e-06 - accuracy: 1.0000 - val_loss: 0.1857 - val_accuracy: 0.9745\n",
      "Epoch 16/30\n",
      "324/324 [==============================] - 2s 8ms/step - loss: 8.0379e-06 - accuracy: 1.0000 - val_loss: 0.1884 - val_accuracy: 0.9742\n",
      "Epoch 17/30\n",
      "324/324 [==============================] - 3s 8ms/step - loss: 6.7216e-06 - accuracy: 1.0000 - val_loss: 0.1914 - val_accuracy: 0.9742\n",
      "Epoch 18/30\n",
      "324/324 [==============================] - 3s 8ms/step - loss: 5.5948e-06 - accuracy: 1.0000 - val_loss: 0.1944 - val_accuracy: 0.9742\n",
      "Epoch 19/30\n",
      "324/324 [==============================] - 3s 8ms/step - loss: 4.7130e-06 - accuracy: 1.0000 - val_loss: 0.1969 - val_accuracy: 0.9742\n",
      "Epoch 20/30\n",
      "324/324 [==============================] - 3s 8ms/step - loss: 3.9804e-06 - accuracy: 1.0000 - val_loss: 0.1998 - val_accuracy: 0.9742\n",
      "Epoch 21/30\n",
      "324/324 [==============================] - 3s 8ms/step - loss: 3.3189e-06 - accuracy: 1.0000 - val_loss: 0.2028 - val_accuracy: 0.9742\n",
      "Epoch 22/30\n",
      "324/324 [==============================] - 3s 8ms/step - loss: 2.8372e-06 - accuracy: 1.0000 - val_loss: 0.2051 - val_accuracy: 0.9742\n",
      "Epoch 23/30\n",
      "324/324 [==============================] - 3s 8ms/step - loss: 2.3884e-06 - accuracy: 1.0000 - val_loss: 0.2081 - val_accuracy: 0.9742\n",
      "Epoch 24/30\n",
      "324/324 [==============================] - 3s 8ms/step - loss: 2.0235e-06 - accuracy: 1.0000 - val_loss: 0.2106 - val_accuracy: 0.9742\n",
      "Epoch 25/30\n",
      "324/324 [==============================] - 3s 8ms/step - loss: 1.7008e-06 - accuracy: 1.0000 - val_loss: 0.2137 - val_accuracy: 0.9742\n",
      "Epoch 26/30\n",
      "324/324 [==============================] - 3s 8ms/step - loss: 1.4368e-06 - accuracy: 1.0000 - val_loss: 0.2166 - val_accuracy: 0.9742\n",
      "Epoch 27/30\n",
      "324/324 [==============================] - 3s 8ms/step - loss: 1.2163e-06 - accuracy: 1.0000 - val_loss: 0.2187 - val_accuracy: 0.9742\n",
      "Epoch 28/30\n",
      "324/324 [==============================] - 3s 8ms/step - loss: 1.0289e-06 - accuracy: 1.0000 - val_loss: 0.2213 - val_accuracy: 0.9742\n",
      "Epoch 29/30\n",
      "324/324 [==============================] - 3s 8ms/step - loss: 8.5777e-07 - accuracy: 1.0000 - val_loss: 0.2241 - val_accuracy: 0.9745\n",
      "Epoch 30/30\n",
      "324/324 [==============================] - 3s 8ms/step - loss: 7.2531e-07 - accuracy: 1.0000 - val_loss: 0.2272 - val_accuracy: 0.9736\n"
     ]
    },
    {
     "data": {
      "text/plain": [
       "<keras.callbacks.History at 0x7f6324263490>"
      ]
     },
     "execution_count": 39,
     "metadata": {},
     "output_type": "execute_result"
    }
   ],
   "source": [
    "new_model.compile(optimizer='adam',\n",
    "                loss='binary_crossentropy',\n",
    "                metrics=['accuracy'])\n",
    "\n",
    "new_model.fit(x_train, y_train, epochs=30, verbose=1,validation_data=(x_test, y_test))"
   ]
  },
  {
   "cell_type": "code",
   "execution_count": 40,
   "metadata": {},
   "outputs": [
    {
     "data": {
      "text/plain": [
       "[<matplotlib.lines.Line2D at 0x7f631c5b3370>]"
      ]
     },
     "execution_count": 40,
     "metadata": {},
     "output_type": "execute_result"
    },
    {
     "data": {
      "image/png": "[encoded data removed]",
      "text/plain": [
       "<Figure size 640x480 with 1 Axes>"
      ]
     },
     "metadata": {},
     "output_type": "display_data"
    }
   ],
   "source": [
    "# draw graph of accuracy in each epoch\n",
    "plt.plot(new_model.history.history['accuracy'])"
   ]
  },
  {
   "cell_type": "code",
   "execution_count": 18,
   "metadata": {},
   "outputs": [],
   "source": [
    "import copy"
   ]
  },
  {
   "cell_type": "code",
   "execution_count": 19,
   "metadata": {},
   "outputs": [],
   "source": [
    "for key, value in chromosomes.items():\n",
    "    to_remove = {}\n",
    "    to_remove_as_list = copy.deepcopy(value[0])\n",
    "    for i, layer in enumerate(new_model.layers):\n",
    "        if(i != 0 and i != len(new_model.layers) - 1):\n",
    "            if(isinstance(layer, keras.layers.Conv2D)):\n",
    "                ls = to_remove_as_list[:int(layer.filters)]\n",
    "                to_remove_as_list = to_remove_as_list[int(layer.filters):]\n",
    "                zero_idx = ls.count(0)\n",
    "                to_remove[i] = zero_idx\n",
    "            elif (isinstance(layer, keras.layers.Dense)):\n",
    "                ls = to_remove_as_list[:int(layer.units)]\n",
    "                to_remove_as_list = to_remove_as_list[int(layer.units):]\n",
    "                zero_idx =  ls.count(0)\n",
    "                to_remove[i] = zero_idx\n",
    "    value.append(to_remove)"
   ]
  },
  {
   "cell_type": "code",
   "execution_count": 20,
   "metadata": {},
   "outputs": [
    {
     "name": "stdout",
     "output_type": "stream",
     "text": [
      "[97.07415699958801, 102, 154, {2: 7, 4: 13, 6: 8, 9: 36}]\n"
     ]
    }
   ],
   "source": [
    "print(chromosomes['18'][1:])"
   ]
  },
  {
   "cell_type": "code",
   "execution_count": null,
   "metadata": {},
   "outputs": [],
   "source": [
    "# sort chromosomes based on number of 0s and accuracy\n",
    "chromosomes = {k: v for k, v in sorted(chromosomes.items(), key=lambda item: (item[1][3], item[1][2]), reverse=True)}"
   ]
  },
  {
   "cell_type": "code",
   "execution_count": 27,
   "metadata": {},
   "outputs": [],
   "source": [
    "# get first 10 chromosomes sorted by accuracy\n",
    "chromosomes_10 = {k: v for k, v in sorted(chromosomes.items(), key=lambda item: (item[1][1]), reverse=True)[:15]}"
   ]
  },
  {
   "cell_type": "code",
   "execution_count": 28,
   "metadata": {},
   "outputs": [
    {
     "name": "stdout",
     "output_type": "stream",
     "text": [
      "97.45075106620789\n",
      "97.42178320884705\n",
      "97.42178320884705\n",
      "97.30591177940369\n",
      "97.27693796157837\n",
      "97.24797010421753\n",
      "97.19003438949585\n",
      "97.19003438949585\n",
      "97.16106653213501\n",
      "97.16106653213501\n",
      "97.13209867477417\n",
      "97.10313081741333\n",
      "97.10313081741333\n",
      "97.10313081741333\n",
      "97.10313081741333\n"
     ]
    }
   ],
   "source": [
    "for key, value in chromosomes_10.items():\n",
    "    print(value[1])"
   ]
  },
  {
   "cell_type": "code",
   "execution_count": 33,
   "metadata": {},
   "outputs": [],
   "source": [
    "n = 15\n",
    "x = np.arange(n)"
   ]
  },
  {
   "cell_type": "code",
   "execution_count": 34,
   "metadata": {},
   "outputs": [],
   "source": [
    "accuracy = []\n",
    "zeroes_l1 = []\n",
    "zeroes_l2 = []\n",
    "zeroes_l3 = []\n",
    "zeroes_l4 = []\n",
    "for key, value in chromosomes_10.items():\n",
    "    accuracy.append(value[1])\n",
    "    zeroes_l1.append(value[4][2])\n",
    "    zeroes_l2.append(value[4][4])\n",
    "    zeroes_l3.append(value[4][6])\n",
    "    zeroes_l4.append(value[4][9])"
   ]
  },
  {
   "cell_type": "code",
   "execution_count": 41,
   "metadata": {},
   "outputs": [
    {
     "data": {
      "image/png": "[encoded data removed]",
      "text/plain": [
       "<Figure size 2000x800 with 1 Axes>"
      ]
     },
     "metadata": {},
     "output_type": "display_data"
    }
   ],
   "source": [
    "fig = plt.subplots(1,1,figsize =(20, 8))\n",
    "\n",
    "plt.bar(x, zeroes_l1 , color ='r', width = 0.2,\n",
    "        edgecolor ='grey', alpha=.5 , label ='L1')\n",
    "\n",
    "plt.bar(x + 0.2, zeroes_l2 , color ='g', width = 0.2,\n",
    "        edgecolor ='grey', alpha=.5 , label ='L2')\n",
    "\n",
    "plt.bar(x+0.4, zeroes_l3 , color ='b', width = 0.2,\n",
    "        edgecolor ='grey', alpha=.5 , label ='L3')\n",
    "\n",
    "plt.bar(x+0.6, zeroes_l4 , color ='black', width = 0.2,\n",
    "        edgecolor ='grey', alpha=.5 , label ='L4')\n",
    "\n",
    "plt.xlabel(\"Accuracy\")\n",
    "plt.ylabel(\"Number of Zeroes\")\n",
    "\n",
    "plt.xticks(x + 0.4, [str(round(float(i),2)) for i in accuracy])\n",
    "\n",
    "plt.legend()\n",
    "plt.show()\n"
   ]
  },
  {
   "cell_type": "code",
   "execution_count": null,
   "metadata": {},
   "outputs": [],
   "source": []
  }
 ],
 "metadata": {
  "kernelspec": {
   "display_name": "Python 3 (ipykernel)",
   "language": "python",
   "name": "python3"
  },
  "language_info": {
   "codemirror_mode": {
    "name": "ipython",
    "version": 3
   },
   "file_extension": ".py",
   "mimetype": "text/x-python",
   "name": "python",
   "nbconvert_exporter": "python",
   "pygments_lexer": "ipython3",
   "version": "3.8.10"
  },
  "orig_nbformat": 4
 },
 "nbformat": 4,
 "nbformat_minor": 2
}
