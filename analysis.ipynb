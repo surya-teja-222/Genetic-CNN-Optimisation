{
 "cells": [
  {
   "cell_type": "code",
   "execution_count": 1,
   "metadata": {},
   "outputs": [],
   "source": [
    "import numpy as np\n",
    "import pandas as pd\n",
    "import matplotlib.pyplot as plt\n",
    "import seaborn as sns\n",
    "import json"
   ]
  },
  {
   "cell_type": "code",
   "execution_count": 2,
   "metadata": {},
   "outputs": [
    {
     "name": "stderr",
     "output_type": "stream",
     "text": [
      "2023-03-06 17:21:45.695135: I tensorflow/core/platform/cpu_feature_guard.cc:194] This TensorFlow binary is optimized with oneAPI Deep Neural Network Library (oneDNN) to use the following CPU instructions in performance-critical operations:  SSE3 SSE4.1 SSE4.2 AVX\n",
      "To enable them in other operations, rebuild TensorFlow with the appropriate compiler flags.\n"
     ]
    }
   ],
   "source": [
    "import tensorflow as tf\n",
    "from tensorflow import keras"
   ]
  },
  {
   "cell_type": "code",
   "execution_count": 3,
   "metadata": {},
   "outputs": [],
   "source": [
    "# read chromosomes\n",
    "initial_acc = 0.9728091090096544"
   ]
  },
  {
   "cell_type": "code",
   "execution_count": 4,
   "metadata": {},
   "outputs": [],
   "source": [
    "# mutated chromosomes\n",
    "chromosomes = None\n",
    "with open('chromosomes/new_cromosomes_mutated.json') as f:\n",
    "    chromosomes = json.load(f)"
   ]
  },
  {
   "cell_type": "code",
   "execution_count": 5,
   "metadata": {},
   "outputs": [],
   "source": [
    "for key, value in chromosomes.items():\n",
    "    chromosomes[key].append(chromosomes[key][0].count(0))\n",
    "    chromosomes[key].append(chromosomes[key][0].count(1))\n",
    "    chromosomes[key][1] = chromosomes[key][1]*100"
   ]
  },
  {
   "cell_type": "code",
   "execution_count": 6,
   "metadata": {},
   "outputs": [],
   "source": [
    "# sort based on accuracy and number of 0s\n",
    "chromosomes = {k: v for k, v in sorted(chromosomes.items(), key=lambda item: (item[1][2]), reverse=True)}"
   ]
  },
  {
   "cell_type": "code",
   "execution_count": 7,
   "metadata": {},
   "outputs": [
    {
     "data": {
      "text/plain": [
       "256"
      ]
     },
     "execution_count": 7,
     "metadata": {},
     "output_type": "execute_result"
    }
   ],
   "source": [
    "len(chromosomes['1'][0])"
   ]
  },
  {
   "cell_type": "code",
   "execution_count": 8,
   "metadata": {},
   "outputs": [
    {
     "name": "stdout",
     "output_type": "stream",
     "text": [
      "27 96.17969680904211 97\n",
      "65 94.79003536143371 96\n",
      "60 95.83520940241682 95\n",
      "70 95.47678051134619 91\n",
      "72 95.28959062314516 87\n",
      "61 95.2985172001182 86\n",
      "63 95.8463496383277 85\n",
      "78 95.55055594887212 85\n",
      "8 95.55930671043822 84\n",
      "14 96.02266168308692 83\n",
      "31 96.17231117665649 83\n",
      "33 95.67937982498383 83\n",
      "10 95.43194934887306 82\n",
      "45 95.52985983715539 82\n",
      "53 95.92014323312661 82\n",
      "34 95.23871371122496 81\n",
      "38 95.65255220465424 81\n",
      "48 95.93110918405323 81\n",
      "68 95.67847518699737 80\n",
      "75 95.98177097250156 79\n",
      "4 95.95681360366326 78\n",
      "32 95.39218074922464 78\n",
      "47 95.9119203408352 78\n",
      "59 95.41337160460786 78\n",
      "26 95.74302775359193 77\n",
      "35 96.18854494289025 77\n",
      "39 95.17951136971709 77\n",
      "46 95.68332869738572 77\n",
      "62 95.30913046651276 77\n",
      "67 95.63997579043205 77\n",
      "0 95.39459024395673 76\n",
      "2 94.5591687288759 76\n",
      "19 96.06583754826342 76\n",
      "20 95.97020452884007 76\n",
      "56 95.52461811481695 76\n",
      "58 96.22479815164684 76\n",
      "74 96.0592451137632 76\n",
      "1 95.56515451933909 75\n",
      "37 95.47227746247748 75\n",
      "52 95.83589217552606 75\n",
      "57 95.65399895585296 75\n",
      "69 95.45085396396232 75\n",
      "22 95.57836509001356 74\n",
      "29 95.77138332725616 74\n",
      "49 96.30882248660538 74\n",
      "9 95.39669758108109 73\n",
      "12 96.11960897180477 73\n",
      "30 95.30022819637536 73\n",
      "40 95.70928083760786 73\n",
      "54 95.36280977834261 73\n",
      "77 95.51410893907284 73\n",
      "6 95.78641347373663 72\n",
      "11 95.63805906792928 72\n",
      "24 95.47506594194061 72\n",
      "21 96.55652394525988 71\n",
      "43 96.25736899247168 71\n",
      "66 96.48113281981227 71\n",
      "76 94.63582260393115 71\n",
      "3 95.5814543171455 70\n",
      "5 95.05827188778974 70\n",
      "16 95.98005841542039 70\n",
      "18 95.72981287195354 70\n",
      "23 95.80872103128621 70\n",
      "50 95.38630749419042 70\n",
      "71 95.59289870666389 70\n",
      "7 95.30148200987757 69\n",
      "13 95.79556378291139 69\n",
      "51 95.05495496681766 68\n",
      "15 95.47344969511818 67\n",
      "17 95.5404537555261 67\n",
      "41 95.01289045160618 67\n",
      "79 95.67658170535269 67\n",
      "42 95.6231329200373 66\n",
      "44 94.92859699423089 66\n",
      "25 95.25140023965182 65\n",
      "36 96.06135204547142 65\n",
      "28 95.59262461166982 64\n",
      "64 95.67898279424281 64\n",
      "55 96.03963175865192 62\n",
      "73 96.0801736823566 56\n"
     ]
    }
   ],
   "source": [
    "for key, value in chromosomes.items():\n",
    "    print(key, value[1], value[2])"
   ]
  },
  {
   "cell_type": "code",
   "execution_count": 9,
   "metadata": {},
   "outputs": [
    {
     "name": "stderr",
     "output_type": "stream",
     "text": [
      "2023-03-06 17:21:57.013837: I tensorflow/core/platform/cpu_feature_guard.cc:194] This TensorFlow binary is optimized with oneAPI Deep Neural Network Library (oneDNN) to use the following CPU instructions in performance-critical operations:  SSE3 SSE4.1 SSE4.2 AVX\n",
      "To enable them in other operations, rebuild TensorFlow with the appropriate compiler flags.\n",
      "2023-03-06 17:21:57.174628: I tensorflow/core/common_runtime/gpu/gpu_device.cc:1621] Created device /job:localhost/replica:0/task:0/device:GPU:0 with 14786 MB memory:  -> device: 0, name: Tesla V100-SXM2-16GB, pci bus id: 0000:8a:00.0, compute capability: 7.0\n"
     ]
    }
   ],
   "source": [
    "original_model = keras.models.load_model('models/base_model.h5')"
   ]
  },
  {
   "cell_type": "code",
   "execution_count": 10,
   "metadata": {},
   "outputs": [],
   "source": [
    "import fitness as fit"
   ]
  },
  {
   "cell_type": "code",
   "execution_count": 11,
   "metadata": {},
   "outputs": [],
   "source": [
    "from test_train_data import x_train, y_train, x_test, y_test"
   ]
  },
  {
   "cell_type": "code",
   "execution_count": 12,
   "metadata": {},
   "outputs": [
    {
     "name": "stdout",
     "output_type": "stream",
     "text": [
      "Epoch 1/10\n"
     ]
    },
    {
     "name": "stderr",
     "output_type": "stream",
     "text": [
      "2023-03-06 17:22:59.409093: I tensorflow/compiler/xla/stream_executor/cuda/cuda_dnn.cc:428] Loaded cuDNN version 8700\n",
      "2023-03-06 17:22:59.635049: I tensorflow/compiler/xla/service/service.cc:173] XLA service 0x7fa2d0a88340 initialized for platform CUDA (this does not guarantee that XLA will be used). Devices:\n",
      "2023-03-06 17:22:59.635102: I tensorflow/compiler/xla/service/service.cc:181]   StreamExecutor device (0): Tesla V100-SXM2-16GB, Compute Capability 7.0\n",
      "2023-03-06 17:22:59.642475: I tensorflow/compiler/mlir/tensorflow/utils/dump_mlir_util.cc:268] disabling MLIR crash reproducer, set env var `MLIR_CRASH_REPRODUCER_DIRECTORY` to enable.\n",
      "2023-03-06 17:22:59.789274: I tensorflow/compiler/jit/xla_compilation_cache.cc:480] Compiled cluster using XLA!  This line is logged at most once for the lifetime of the process.\n"
     ]
    },
    {
     "name": "stdout",
     "output_type": "stream",
     "text": [
      "324/324 [==============================] - 6s 11ms/step - loss: 0.0571 - accuracy: 0.9803 - val_loss: 0.0637 - val_accuracy: 0.9745\n",
      "Epoch 2/10\n",
      "324/324 [==============================] - 3s 9ms/step - loss: 0.0336 - accuracy: 0.9862 - val_loss: 0.0495 - val_accuracy: 0.9855\n",
      "Epoch 3/10\n",
      "324/324 [==============================] - 3s 9ms/step - loss: 0.0275 - accuracy: 0.9902 - val_loss: 0.0512 - val_accuracy: 0.9806\n",
      "Epoch 4/10\n",
      "324/324 [==============================] - 3s 8ms/step - loss: 0.0311 - accuracy: 0.9885 - val_loss: 0.0515 - val_accuracy: 0.9826\n",
      "Epoch 5/10\n",
      "324/324 [==============================] - 3s 8ms/step - loss: 0.0220 - accuracy: 0.9921 - val_loss: 0.0642 - val_accuracy: 0.9765\n",
      "Epoch 6/10\n",
      "324/324 [==============================] - 3s 8ms/step - loss: 0.0167 - accuracy: 0.9942 - val_loss: 0.0600 - val_accuracy: 0.9817\n",
      "Epoch 7/10\n",
      "324/324 [==============================] - 3s 8ms/step - loss: 0.0227 - accuracy: 0.9915 - val_loss: 0.1021 - val_accuracy: 0.9748\n",
      "Epoch 8/10\n",
      "324/324 [==============================] - 3s 9ms/step - loss: 0.0239 - accuracy: 0.9909 - val_loss: 0.0668 - val_accuracy: 0.9777\n",
      "Epoch 9/10\n",
      "324/324 [==============================] - 3s 9ms/step - loss: 0.0145 - accuracy: 0.9947 - val_loss: 0.0823 - val_accuracy: 0.9751\n",
      "Epoch 10/10\n",
      "324/324 [==============================] - 3s 9ms/step - loss: 0.0097 - accuracy: 0.9966 - val_loss: 0.0686 - val_accuracy: 0.9806\n",
      "108/108 [==============================] - 1s 3ms/step\n"
     ]
    },
    {
     "data": {
      "text/plain": [
       "0.9733082103799772"
      ]
     },
     "execution_count": 12,
     "metadata": {},
     "output_type": "execute_result"
    }
   ],
   "source": [
    "fit.getFitness(original_model, epochs=10, verbose=1)"
   ]
  },
  {
   "cell_type": "code",
   "execution_count": 13,
   "metadata": {},
   "outputs": [
    {
     "name": "stdout",
     "output_type": "stream",
     "text": [
      "108/108 - 0s - loss: 0.0686 - accuracy: 0.9806 - 423ms/epoch - 4ms/step\n",
      "324/324 - 1s - loss: 0.0037 - accuracy: 0.9989 - 1s/epoch - 4ms/step\n",
      "Test accuracy: 0.9805909395217896\n",
      "Train accuracy: 0.9989377856254578\n"
     ]
    }
   ],
   "source": [
    "\n",
    "# evaluate\n",
    "test_loss, test_acc = original_model.evaluate(x_test, y_test, verbose=2)\n",
    "train_loss, train_acc = original_model.evaluate(x_train, y_train, verbose=2)\n",
    "print('Test accuracy:', test_acc)\n",
    "print('Train accuracy:', train_acc)"
   ]
  },
  {
   "cell_type": "code",
   "execution_count": 23,
   "metadata": {},
   "outputs": [
    {
     "name": "stdout",
     "output_type": "stream",
     "text": [
      "108/108 [==============================] - 0s 3ms/step\n",
      "Precision: 0.372538\n",
      "Recall: 0.500000\n",
      "F1 score: 0.426959\n",
      "Jaccard score: 0.372538\n",
      "Cohens kappa: 0.000000\n",
      "[[2572    0]\n",
      " [ 880    0]]\n"
     ]
    },
    {
     "name": "stderr",
     "output_type": "stream",
     "text": [
      "/usr/local/lib/python3.8/dist-packages/sklearn/metrics/_classification.py:1248: UndefinedMetricWarning: Precision is ill-defined and being set to 0.0 in labels with no predicted samples. Use `zero_division` parameter to control this behavior.\n",
      "  _warn_prf(average, modifier, msg_start, len(result))\n"
     ]
    }
   ],
   "source": [
    "# precision, recall, f1-score\n",
    "\n",
    "# precision\n",
    "from sklearn.metrics import precision_score\n",
    "y_pred = original_model.predict(x_test)\n",
    "y_pred = np.argmax(y_pred, axis=1)\n",
    "# y_test = np.argmax(y_test, axis=1)\n",
    "precision = precision_score(y_test, y_pred, average='macro')\n",
    "print('Precision: %f' % precision)\n",
    "\n",
    "# recall\n",
    "from sklearn.metrics import recall_score\n",
    "recall = recall_score(y_test, y_pred, average='macro')\n",
    "print('Recall: %f' % recall)\n",
    "\n",
    "# f1-score\n",
    "from sklearn.metrics import f1_score\n",
    "f1 = f1_score(y_test, y_pred, average='macro')\n",
    "print('F1 score: %f' % f1)\n",
    "\n",
    "# jaccard score\n",
    "from sklearn.metrics import jaccard_score\n",
    "jaccard = jaccard_score(y_test, y_pred, average='macro')\n",
    "print('Jaccard score: %f' % jaccard)\n",
    "\n",
    "# cohens kappa\n",
    "from sklearn.metrics import cohen_kappa_score\n",
    "kappa = cohen_kappa_score(y_test, y_pred)\n",
    "print('Cohens kappa: %f' % kappa)\n",
    "\n",
    "# confusion matrix\n",
    "from sklearn.metrics import confusion_matrix\n",
    "cm = confusion_matrix(y_test, y_pred)\n",
    "print(cm)\n",
    "\n",
    "\n",
    "\n"
   ]
  },
  {
   "cell_type": "code",
   "execution_count": 49,
   "metadata": {},
   "outputs": [
    {
     "name": "stdout",
     "output_type": "stream",
     "text": [
      "Number of MFLOPS: 21222.44724\n"
     ]
    }
   ],
   "source": [
    "num_params = original_model.count_params()\n",
    "num_flops = original_model.count_params() * x_train.shape[0] * 10\n",
    "num_mflops = num_flops / 1e6\n",
    "print('Number of MFLOPS:', num_mflops)"
   ]
  },
  {
   "cell_type": "code",
   "execution_count": 11,
   "metadata": {},
   "outputs": [],
   "source": [
    "import generate_sub_model as gsm"
   ]
  },
  {
   "cell_type": "code",
   "execution_count": 15,
   "metadata": {},
   "outputs": [
    {
     "name": "stdout",
     "output_type": "stream",
     "text": [
      "[96.17969680904211, 97, 159]\n"
     ]
    }
   ],
   "source": [
    "print(chromosomes['27'][1:])"
   ]
  },
  {
   "cell_type": "code",
   "execution_count": 16,
   "metadata": {},
   "outputs": [],
   "source": [
    "new_model = gsm.genSubModel(chromosomes['27'][0], original_model)"
   ]
  },
  {
   "cell_type": "code",
   "execution_count": 14,
   "metadata": {},
   "outputs": [],
   "source": [
    "import fitness as fit"
   ]
  },
  {
   "cell_type": "code",
   "execution_count": 18,
   "metadata": {},
   "outputs": [],
   "source": [
    "from test_train_data import x_train, y_train, x_test, y_test"
   ]
  },
  {
   "cell_type": "code",
   "execution_count": null,
   "metadata": {},
   "outputs": [],
   "source": [
    "fit.getFitness(new_model, epochs=10, verbose=1)\n"
   ]
  },
  {
   "cell_type": "code",
   "execution_count": 19,
   "metadata": {},
   "outputs": [
    {
     "name": "stdout",
     "output_type": "stream",
     "text": [
      "108/108 - 0s - loss: 0.1011 - accuracy: 0.9678 - 398ms/epoch - 4ms/step\n",
      "324/324 - 1s - loss: 0.0173 - accuracy: 0.9940 - 1s/epoch - 4ms/step\n",
      "Test accuracy: 0.9678447246551514\n",
      "Train accuracy: 0.9940131306648254\n"
     ]
    }
   ],
   "source": [
    "\n",
    "# evaluate\n",
    "test_loss, test_acc = new_model.evaluate(x_test, y_test, verbose=2)\n",
    "train_loss, train_acc = new_model.evaluate(x_train, y_train, verbose=2)\n",
    "print('Test accuracy:', test_acc)\n",
    "print('Train accuracy:', train_acc)"
   ]
  },
  {
   "cell_type": "code",
   "execution_count": 50,
   "metadata": {},
   "outputs": [
    {
     "name": "stdout",
     "output_type": "stream",
     "text": [
      "Number of MFLOPS: 8978.54844\n"
     ]
    }
   ],
   "source": [
    "num_params = new_model.count_params()\n",
    "num_flops = new_model.count_params() * x_train.shape[0] * 10\n",
    "num_mflops = num_flops / 1e6\n",
    "print('Number of MFLOPS:', num_mflops)"
   ]
  },
  {
   "cell_type": "code",
   "execution_count": 22,
   "metadata": {},
   "outputs": [],
   "source": [
    "# save model\n",
    "new_model.save('models/new_model.h5')"
   ]
  },
  {
   "cell_type": "code",
   "execution_count": 36,
   "metadata": {},
   "outputs": [],
   "source": [
    "new_model = gsm.genSubModel(chromosomes['18'][0], original_model)"
   ]
  },
  {
   "cell_type": "code",
   "execution_count": 15,
   "metadata": {},
   "outputs": [],
   "source": [
    "from test_train_data import x_train, y_train, x_test, y_test"
   ]
  },
  {
   "cell_type": "code",
   "execution_count": 39,
   "metadata": {},
   "outputs": [
    {
     "name": "stdout",
     "output_type": "stream",
     "text": [
      "Epoch 1/30\n",
      "324/324 [==============================] - 6s 11ms/step - loss: 0.0129 - accuracy: 0.9953 - val_loss: 0.1881 - val_accuracy: 0.9699\n",
      "Epoch 2/30\n",
      "324/324 [==============================] - 2s 8ms/step - loss: 0.0066 - accuracy: 0.9978 - val_loss: 0.1736 - val_accuracy: 0.9716\n",
      "Epoch 3/30\n",
      "324/324 [==============================] - 2s 8ms/step - loss: 0.0133 - accuracy: 0.9953 - val_loss: 0.1654 - val_accuracy: 0.9670\n",
      "Epoch 4/30\n",
      "324/324 [==============================] - 3s 8ms/step - loss: 0.0091 - accuracy: 0.9963 - val_loss: 0.2300 - val_accuracy: 0.9638\n",
      "Epoch 5/30\n",
      "324/324 [==============================] - 3s 8ms/step - loss: 0.0151 - accuracy: 0.9939 - val_loss: 0.1676 - val_accuracy: 0.9690\n",
      "Epoch 6/30\n",
      "324/324 [==============================] - 3s 8ms/step - loss: 0.0032 - accuracy: 0.9992 - val_loss: 0.1527 - val_accuracy: 0.9716\n",
      "Epoch 7/30\n",
      "324/324 [==============================] - 3s 8ms/step - loss: 2.7123e-04 - accuracy: 1.0000 - val_loss: 0.1560 - val_accuracy: 0.9739\n",
      "Epoch 8/30\n",
      "324/324 [==============================] - 3s 8ms/step - loss: 7.7039e-05 - accuracy: 1.0000 - val_loss: 0.1610 - val_accuracy: 0.9739\n",
      "Epoch 9/30\n",
      "324/324 [==============================] - 3s 8ms/step - loss: 4.4558e-05 - accuracy: 1.0000 - val_loss: 0.1655 - val_accuracy: 0.9739\n",
      "Epoch 10/30\n",
      "324/324 [==============================] - 3s 8ms/step - loss: 3.1729e-05 - accuracy: 1.0000 - val_loss: 0.1693 - val_accuracy: 0.9739\n",
      "Epoch 11/30\n",
      "324/324 [==============================] - 2s 8ms/step - loss: 2.3870e-05 - accuracy: 1.0000 - val_loss: 0.1732 - val_accuracy: 0.9739\n",
      "Epoch 12/30\n",
      "324/324 [==============================] - 3s 8ms/step - loss: 1.8503e-05 - accuracy: 1.0000 - val_loss: 0.1764 - val_accuracy: 0.9733\n",
      "Epoch 13/30\n",
      "324/324 [==============================] - 3s 8ms/step - loss: 1.4763e-05 - accuracy: 1.0000 - val_loss: 0.1797 - val_accuracy: 0.9736\n",
      "Epoch 14/30\n",
      "324/324 [==============================] - 3s 8ms/step - loss: 1.1947e-05 - accuracy: 1.0000 - val_loss: 0.1829 - val_accuracy: 0.9742\n",
      "Epoch 15/30\n",
      "324/324 [==============================] - 3s 8ms/step - loss: 9.8364e-06 - accuracy: 1.0000 - val_loss: 0.1857 - val_accuracy: 0.9745\n",
      "Epoch 16/30\n",
      "324/324 [==============================] - 2s 8ms/step - loss: 8.0379e-06 - accuracy: 1.0000 - val_loss: 0.1884 - val_accuracy: 0.9742\n",
      "Epoch 17/30\n",
      "324/324 [==============================] - 3s 8ms/step - loss: 6.7216e-06 - accuracy: 1.0000 - val_loss: 0.1914 - val_accuracy: 0.9742\n",
      "Epoch 18/30\n",
      "324/324 [==============================] - 3s 8ms/step - loss: 5.5948e-06 - accuracy: 1.0000 - val_loss: 0.1944 - val_accuracy: 0.9742\n",
      "Epoch 19/30\n",
      "324/324 [==============================] - 3s 8ms/step - loss: 4.7130e-06 - accuracy: 1.0000 - val_loss: 0.1969 - val_accuracy: 0.9742\n",
      "Epoch 20/30\n",
      "324/324 [==============================] - 3s 8ms/step - loss: 3.9804e-06 - accuracy: 1.0000 - val_loss: 0.1998 - val_accuracy: 0.9742\n",
      "Epoch 21/30\n",
      "324/324 [==============================] - 3s 8ms/step - loss: 3.3189e-06 - accuracy: 1.0000 - val_loss: 0.2028 - val_accuracy: 0.9742\n",
      "Epoch 22/30\n",
      "324/324 [==============================] - 3s 8ms/step - loss: 2.8372e-06 - accuracy: 1.0000 - val_loss: 0.2051 - val_accuracy: 0.9742\n",
      "Epoch 23/30\n",
      "324/324 [==============================] - 3s 8ms/step - loss: 2.3884e-06 - accuracy: 1.0000 - val_loss: 0.2081 - val_accuracy: 0.9742\n",
      "Epoch 24/30\n",
      "324/324 [==============================] - 3s 8ms/step - loss: 2.0235e-06 - accuracy: 1.0000 - val_loss: 0.2106 - val_accuracy: 0.9742\n",
      "Epoch 25/30\n",
      "324/324 [==============================] - 3s 8ms/step - loss: 1.7008e-06 - accuracy: 1.0000 - val_loss: 0.2137 - val_accuracy: 0.9742\n",
      "Epoch 26/30\n",
      "324/324 [==============================] - 3s 8ms/step - loss: 1.4368e-06 - accuracy: 1.0000 - val_loss: 0.2166 - val_accuracy: 0.9742\n",
      "Epoch 27/30\n",
      "324/324 [==============================] - 3s 8ms/step - loss: 1.2163e-06 - accuracy: 1.0000 - val_loss: 0.2187 - val_accuracy: 0.9742\n",
      "Epoch 28/30\n",
      "324/324 [==============================] - 3s 8ms/step - loss: 1.0289e-06 - accuracy: 1.0000 - val_loss: 0.2213 - val_accuracy: 0.9742\n",
      "Epoch 29/30\n",
      "324/324 [==============================] - 3s 8ms/step - loss: 8.5777e-07 - accuracy: 1.0000 - val_loss: 0.2241 - val_accuracy: 0.9745\n",
      "Epoch 30/30\n",
      "324/324 [==============================] - 3s 8ms/step - loss: 7.2531e-07 - accuracy: 1.0000 - val_loss: 0.2272 - val_accuracy: 0.9736\n"
     ]
    },
    {
     "data": {
      "text/plain": [
       "<keras.callbacks.History at 0x7f6324263490>"
      ]
     },
     "execution_count": 39,
     "metadata": {},
     "output_type": "execute_result"
    }
   ],
   "source": [
    "new_model.compile(optimizer='adam',\n",
    "                loss='binary_crossentropy',\n",
    "                metrics=['accuracy'])\n",
    "\n",
    "new_model.fit(x_train, y_train, epochs=30, verbose=1,validation_data=(x_test, y_test))"
   ]
  },
  {
   "cell_type": "code",
   "execution_count": 40,
   "metadata": {},
   "outputs": [
    {
     "data": {
      "text/plain": [
       "[<matplotlib.lines.Line2D at 0x7f631c5b3370>]"
      ]
     },
     "execution_count": 40,
     "metadata": {},
     "output_type": "execute_result"
    },
    {
     "data": {
      "image/png": "[encoded data removed]",
      "text/plain": [
       "<Figure size 640x480 with 1 Axes>"
      ]
     },
     "metadata": {},
     "output_type": "display_data"
    }
   ],
   "source": [
    "# draw graph of accuracy in each epoch\n",
    "plt.plot(new_model.history.history['accuracy'])"
   ]
  },
  {
   "cell_type": "code",
   "execution_count": 23,
   "metadata": {},
   "outputs": [],
   "source": [
    "import copy"
   ]
  },
  {
   "cell_type": "code",
   "execution_count": 24,
   "metadata": {},
   "outputs": [],
   "source": [
    "for key, value in chromosomes.items():\n",
    "    to_remove = {}\n",
    "    to_remove_as_list = copy.deepcopy(value[0])\n",
    "    for i, layer in enumerate(new_model.layers):\n",
    "        if(i != 0 and i != len(new_model.layers) - 1):\n",
    "            if(isinstance(layer, keras.layers.Conv2D)):\n",
    "                ls = to_remove_as_list[:int(layer.filters)]\n",
    "                to_remove_as_list = to_remove_as_list[int(layer.filters):]\n",
    "                zero_idx = ls.count(0)\n",
    "                to_remove[i] = zero_idx\n",
    "            elif (isinstance(layer, keras.layers.Dense)):\n",
    "                ls = to_remove_as_list[:int(layer.units)]\n",
    "                to_remove_as_list = to_remove_as_list[int(layer.units):]\n",
    "                zero_idx =  ls.count(0)\n",
    "                to_remove[i] = zero_idx\n",
    "    value.append(to_remove)"
   ]
  },
  {
   "cell_type": "code",
   "execution_count": 25,
   "metadata": {},
   "outputs": [
    {
     "name": "stdout",
     "output_type": "stream",
     "text": [
      "[95.72981287195354, 70, 186, {2: 4, 4: 10, 6: 6, 9: 23}]\n"
     ]
    }
   ],
   "source": [
    "print(chromosomes['18'][1:])"
   ]
  },
  {
   "cell_type": "code",
   "execution_count": 26,
   "metadata": {},
   "outputs": [],
   "source": [
    "# sort chromosomes based on number of 0s and accuracy\n",
    "chromosomes = {k: v for k, v in sorted(chromosomes.items(), key=lambda item: (item[1][3], item[1][2]), reverse=True)}"
   ]
  },
  {
   "cell_type": "code",
   "execution_count": 27,
   "metadata": {},
   "outputs": [],
   "source": [
    "# get first 10 chromosomes sorted by accuracy\n",
    "chromosomes_10 = {k: v for k, v in sorted(chromosomes.items(), key=lambda item: (item[1][1]), reverse=True)[:15]}"
   ]
  },
  {
   "cell_type": "code",
   "execution_count": 28,
   "metadata": {},
   "outputs": [
    {
     "name": "stdout",
     "output_type": "stream",
     "text": [
      "96.55652394525988\n",
      "96.48113281981227\n",
      "96.30882248660538\n",
      "96.25736899247168\n",
      "96.22479815164684\n",
      "96.18854494289025\n",
      "96.17969680904211\n",
      "96.17231117665649\n",
      "96.11960897180477\n",
      "96.0801736823566\n",
      "96.06583754826342\n",
      "96.06135204547142\n",
      "96.0592451137632\n",
      "96.03963175865192\n",
      "96.02266168308692\n"
     ]
    }
   ],
   "source": [
    "for key, value in chromosomes_10.items():\n",
    "    print(value[1])"
   ]
  },
  {
   "cell_type": "code",
   "execution_count": 29,
   "metadata": {},
   "outputs": [],
   "source": [
    "n = 15\n",
    "x = np.arange(n)"
   ]
  },
  {
   "cell_type": "code",
   "execution_count": 30,
   "metadata": {},
   "outputs": [],
   "source": [
    "accuracy = []\n",
    "zeroes_l1 = []\n",
    "zeroes_l2 = []\n",
    "zeroes_l3 = []\n",
    "zeroes_l4 = []\n",
    "for key, value in chromosomes_10.items():\n",
    "    accuracy.append(value[1])\n",
    "    zeroes_l1.append(value[4][2])\n",
    "    zeroes_l2.append(value[4][4])\n",
    "    zeroes_l3.append(value[4][6])\n",
    "    zeroes_l4.append(value[4][9])"
   ]
  },
  {
   "cell_type": "code",
   "execution_count": 31,
   "metadata": {},
   "outputs": [
    {
     "data": {
      "image/png": "[encoded data removed]",
      "text/plain": [
       "<Figure size 2000x800 with 1 Axes>"
      ]
     },
     "metadata": {},
     "output_type": "display_data"
    }
   ],
   "source": [
    "fig = plt.subplots(1,1,figsize =(20, 8))\n",
    "\n",
    "plt.bar(x, zeroes_l1 , color ='r', width = 0.2,\n",
    "        edgecolor ='grey', alpha=.5 , label ='L1')\n",
    "\n",
    "plt.bar(x + 0.2, zeroes_l2 , color ='g', width = 0.2,\n",
    "        edgecolor ='grey', alpha=.5 , label ='L2')\n",
    "\n",
    "plt.bar(x+0.4, zeroes_l3 , color ='b', width = 0.2,\n",
    "        edgecolor ='grey', alpha=.5 , label ='L3')\n",
    "\n",
    "plt.bar(x+0.6, zeroes_l4 , color ='black', width = 0.2,\n",
    "        edgecolor ='grey', alpha=.5 , label ='L4')\n",
    "\n",
    "plt.xlabel(\"Accuracy\")\n",
    "plt.ylabel(\"Number of Zeroes\")\n",
    "\n",
    "plt.xticks(x + 0.4, [str(round(float(i),2)) for i in accuracy])\n",
    "\n",
    "plt.legend()\n",
    "plt.show()\n"
   ]
  },
  {
   "cell_type": "code",
   "execution_count": 32,
   "metadata": {},
   "outputs": [],
   "source": [
    "models = [\n",
    "    'originaLNN',\n",
    "    'CompressedNN',\n",
    "    'alexnet',\n",
    "    'KNN',\n",
    "    'LogisticRegression',\n",
    "    'RandomForest',\n",
    "    'resnet',\n",
    "    'SVM',\n",
    "]\n",
    "\n",
    "accuracy = [\n",
    "    97.39281535148621,\n",
    "    96.78447246551514,\n",
    "    74.9,\n",
    "    88.03592120509849,\n",
    "    84.50173812282734,\n",
    "    91.33835457705678,\n",
    "    83.4,\n",
    "    90.58516801853997\n",
    "]"
   ]
  },
  {
   "cell_type": "code",
   "execution_count": 44,
   "metadata": {},
   "outputs": [],
   "source": [
    "import seaborn as sns"
   ]
  },
  {
   "cell_type": "code",
   "execution_count": 46,
   "metadata": {},
   "outputs": [
    {
     "data": {
      "image/png": "[encoded data removed]",
      "text/plain": [
       "<Figure size 2000x800 with 1 Axes>"
      ]
     },
     "metadata": {},
     "output_type": "display_data"
    }
   ],
   "source": [
    "# draw graph of accuracy vs model with labels and title\n",
    "sns.set_style(\"whitegrid\")\n",
    "plt.figure(figsize=(20,8))\n",
    "plt.title(\"Accuracy vs Model\")\n",
    "plt.xlabel(\"Model\")\n",
    "plt.ylabel(\"Accuracy\")\n",
    "sns.barplot(x=models, y=accuracy)\n",
    "\n",
    "# bar labels\n",
    "for index, value in enumerate(accuracy):\n",
    "    plt.text(index, value, str(round(value, 2)))\n",
    "\n",
    "plt.show()\n"
   ]
  },
  {
   "attachments": {},
   "cell_type": "markdown",
   "metadata": {},
   "source": [
    "# MFLOPS\n"
   ]
  },
  {
   "cell_type": "code",
   "execution_count": 51,
   "metadata": {},
   "outputs": [
    {
     "name": "stdout",
     "output_type": "stream",
     "text": [
      "Number of MFLOPS: 21222.44724\n"
     ]
    }
   ],
   "source": [
    "num_params = original_model.count_params()\n",
    "num_flops = original_model.count_params() * x_train.shape[0] * 10\n",
    "num_mflops = num_flops / 1e6\n",
    "print('Number of MFLOPS:', num_mflops)"
   ]
  },
  {
   "cell_type": "code",
   "execution_count": 52,
   "metadata": {},
   "outputs": [
    {
     "name": "stdout",
     "output_type": "stream",
     "text": [
      "Number of MFLOPS: 8978.54844\n"
     ]
    }
   ],
   "source": [
    "num_params = new_model.count_params()\n",
    "num_flops = new_model.count_params() * x_train.shape[0] * 10\n",
    "num_mflops = num_flops / 1e6\n",
    "print('Number of MFLOPS:', num_mflops)"
   ]
  },
  {
   "cell_type": "code",
   "execution_count": 54,
   "metadata": {},
   "outputs": [],
   "source": [
    "import os"
   ]
  },
  {
   "cell_type": "code",
   "execution_count": 56,
   "metadata": {},
   "outputs": [
    {
     "name": "stdout",
     "output_type": "stream",
     "text": [
      "Original model size: 2518152\n"
     ]
    }
   ],
   "source": [
    "# size of original model\n",
    "print('Original model size:', os.path.getsize('models/base_model.h5'))\n"
   ]
  },
  {
   "cell_type": "code",
   "execution_count": 57,
   "metadata": {},
   "outputs": [
    {
     "name": "stdout",
     "output_type": "stream",
     "text": [
      "Original model size: 1098632\n"
     ]
    }
   ],
   "source": [
    "print('Original model size:', os.path.getsize('models/new_model.h5'))\n"
   ]
  },
  {
   "cell_type": "code",
   "execution_count": 58,
   "metadata": {},
   "outputs": [
    {
     "name": "stdout",
     "output_type": "stream",
     "text": [
      "Compression: 0.5637149782856634\n"
     ]
    }
   ],
   "source": [
    "# find amount of compression\n",
    "print('Compression:', 1 - (os.path.getsize('models/new_model.h5') / os.path.getsize('models/base_model.h5')))"
   ]
  },
  {
   "cell_type": "code",
   "execution_count": null,
   "metadata": {},
   "outputs": [
    {
     "ename": "",
     "evalue": "",
     "output_type": "error",
     "traceback": [
      "\u001b[1;31mFailed to connect to the remote Jupyter Server 'http://10.6.0.143:1430/'. Verify the server is running and reachable. (Forbidden)."
     ]
    }
   ],
   "source": [
    "# find accuracy, precision, recall, f1 score, jaccard index, kappa score, confusion matrix, ROC curve, AUC score, etc.\n",
    "\n",
    "# precision\n",
    "from sklearn.metrics import precision_score\n",
    "y_pred = model.predict(x_test)\n",
    "y_pred = np.argmax(y_pred, axis=1)\n",
    "precision = precision_score(y_test, y_pred, average='macro')\n",
    "print('Precision: %f' % precision)\n",
    "\n",
    "# recall\n",
    "from sklearn.metrics import recall_score\n",
    "recall = recall_score(y_test, y_pred, average='macro')\n",
    "print('Recall: %f' % recall)\n",
    "\n",
    "# f1 score\n",
    "from sklearn.metrics import f1_score\n",
    "f1 = f1_score(y_test, y_pred, average='macro')\n",
    "print('F1 score: %f' % f1)\n",
    "\n",
    "# jaccard index\n",
    "from sklearn.metrics import jaccard_score\n",
    "jaccard = jaccard_score(y_test, y_pred, average='macro')\n",
    "print('Jaccard score: %f' % jaccard)\n",
    "\n",
    "# kappa score\n",
    "from sklearn.metrics import cohen_kappa_score\n",
    "kappa = cohen_kappa_score(y_test, y_pred)\n",
    "print('Cohens kappa: %f' % kappa)\n",
    "\n",
    "# confusion matrix\n",
    "from sklearn.metrics import confusion_matrix\n",
    "matrix = confusion_matrix(y_test, y_pred)\n",
    "print(matrix)\n",
    "\n",
    "# ROC curve\n",
    "from sklearn.metrics import roc_curve\n",
    "fpr, tpr, thresholds = roc_curve(y_test, y_pred)\n",
    "print(fpr, tpr, thresholds)\n",
    "\n",
    "# AUC score\n",
    "from sklearn.metrics import roc_auc_score\n",
    "auc = roc_auc_score(y_test, y_pred)\n",
    "print('ROC AUC=%.3f' % (auc))\n"
   ]
  },
  {
   "cell_type": "code",
   "execution_count": 3,
   "metadata": {},
   "outputs": [
    {
     "ename": "NameError",
     "evalue": "name 'x_test' is not defined",
     "output_type": "error",
     "traceback": [
      "\u001b[0;31m---------------------------------------------------------------------------\u001b[0m",
      "\u001b[0;31mNameError\u001b[0m                                 Traceback (most recent call last)",
      "Cell \u001b[0;32mIn[3], line 1\u001b[0m\n\u001b[0;32m----> 1\u001b[0m x_test\n",
      "\u001b[0;31mNameError\u001b[0m: name 'x_test' is not defined"
     ]
    }
   ],
   "source": [
    "x_test"
   ]
  },
  {
   "cell_type": "code",
   "execution_count": null,
   "metadata": {},
   "outputs": [],
   "source": []
  }
 ],
 "metadata": {
  "kernelspec": {
   "display_name": "Python 3 (ipykernel)",
   "language": "python",
   "name": "python3"
  },
  "language_info": {
   "codemirror_mode": {
    "name": "ipython",
    "version": 3
   },
   "file_extension": ".py",
   "mimetype": "text/x-python",
   "name": "python",
   "nbconvert_exporter": "python",
   "pygments_lexer": "ipython3",
   "version": "3.8.10"
  },
  "orig_nbformat": 4
 },
 "nbformat": 4,
 "nbformat_minor": 2
}
