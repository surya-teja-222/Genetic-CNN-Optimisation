{
 "cells": [
  {
   "cell_type": "code",
   "execution_count": 1,
   "metadata": {},
   "outputs": [
    {
     "name": "stderr",
     "output_type": "stream",
     "text": [
      "2023-03-05 13:07:46.234117: I tensorflow/core/platform/cpu_feature_guard.cc:194] This TensorFlow binary is optimized with oneAPI Deep Neural Network Library (oneDNN) to use the following CPU instructions in performance-critical operations:  SSE3 SSE4.1 SSE4.2 AVX\n",
      "To enable them in other operations, rebuild TensorFlow with the appropriate compiler flags.\n"
     ]
    }
   ],
   "source": [
    "import numpy as np\n",
    "import random\n",
    "import json\n",
    "import tensorflow as tf\n",
    "from tensorflow import keras"
   ]
  },
  {
   "cell_type": "code",
   "execution_count": 2,
   "metadata": {},
   "outputs": [],
   "source": [
    "\n",
    "from tensorflow.keras.layers import *\n",
    "from tensorflow.keras.models import *\n"
   ]
  },
  {
   "cell_type": "code",
   "execution_count": 3,
   "metadata": {},
   "outputs": [
    {
     "ename": "ModuleNotFoundError",
     "evalue": "No module named 'fitness'",
     "output_type": "error",
     "traceback": [
      "\u001b[0;31m---------------------------------------------------------------------------\u001b[0m",
      "\u001b[0;31mModuleNotFoundError\u001b[0m                       Traceback (most recent call last)",
      "Cell \u001b[0;32mIn[3], line 1\u001b[0m\n\u001b[0;32m----> 1\u001b[0m \u001b[39mimport\u001b[39;00m \u001b[39mfitness\u001b[39;00m\n",
      "\u001b[0;31mModuleNotFoundError\u001b[0m: No module named 'fitness'"
     ]
    }
   ],
   "source": [
    "import fitness"
   ]
  },
  {
   "cell_type": "code",
   "execution_count": 7,
   "metadata": {},
   "outputs": [],
   "source": [
    "from test_train_data import x_test, y_test, x_train, y_train"
   ]
  },
  {
   "cell_type": "code",
   "execution_count": 8,
   "metadata": {},
   "outputs": [
    {
     "data": {
      "text/plain": [
       "(10356, 10356, 3452, 3452)"
      ]
     },
     "execution_count": 8,
     "metadata": {},
     "output_type": "execute_result"
    }
   ],
   "source": [
    "len(x_train), len(y_train), len(x_test), len(y_test)"
   ]
  },
  {
   "cell_type": "code",
   "execution_count": 9,
   "metadata": {},
   "outputs": [],
   "source": [
    "import generate_sub_model as gsm"
   ]
  },
  {
   "cell_type": "code",
   "execution_count": 5,
   "metadata": {},
   "outputs": [
    {
     "name": "stdout",
     "output_type": "stream",
     "text": [
      "INFO: BASE MODEL\n"
     ]
    },
    {
     "name": "stderr",
     "output_type": "stream",
     "text": [
      "2023-03-05 13:08:11.954307: I tensorflow/core/platform/cpu_feature_guard.cc:194] This TensorFlow binary is optimized with oneAPI Deep Neural Network Library (oneDNN) to use the following CPU instructions in performance-critical operations:  SSE3 SSE4.1 SSE4.2 AVX\n",
      "To enable them in other operations, rebuild TensorFlow with the appropriate compiler flags.\n",
      "2023-03-05 13:08:12.256748: I tensorflow/core/common_runtime/gpu/gpu_device.cc:1621] Created device /job:localhost/replica:0/task:0/device:GPU:0 with 503 MB memory:  -> device: 0, name: Tesla V100-SXM2-16GB, pci bus id: 0000:07:00.0, compute capability: 7.0\n"
     ]
    }
   ],
   "source": [
    "print(\"INFO: BASE MODEL\")\n",
    "model = keras.models.load_model('./../models/base_model.h5')"
   ]
  },
  {
   "cell_type": "code",
   "execution_count": 6,
   "metadata": {},
   "outputs": [
    {
     "name": "stdout",
     "output_type": "stream",
     "text": [
      "Model: \"sequential\"\n",
      "_________________________________________________________________\n",
      " Layer (type)                Output Shape              Param #   \n",
      "=================================================================\n",
      " conv2d (Conv2D)             (None, 100, 100, 64)      1792      \n",
      "                                                                 \n",
      " max_pooling2d (MaxPooling2D  (None, 50, 50, 64)       0         \n",
      " )                                                               \n",
      "                                                                 \n",
      " conv2d_1 (Conv2D)           (None, 50, 50, 32)        18464     \n",
      "                                                                 \n",
      " max_pooling2d_1 (MaxPooling  (None, 25, 25, 32)       0         \n",
      " 2D)                                                             \n",
      "                                                                 \n",
      " conv2d_2 (Conv2D)           (None, 25, 25, 64)        18496     \n",
      "                                                                 \n",
      " max_pooling2d_2 (MaxPooling  (None, 12, 12, 64)       0         \n",
      " 2D)                                                             \n",
      "                                                                 \n",
      " conv2d_3 (Conv2D)           (None, 12, 12, 32)        18464     \n",
      "                                                                 \n",
      " max_pooling2d_3 (MaxPooling  (None, 6, 6, 32)         0         \n",
      " 2D)                                                             \n",
      "                                                                 \n",
      " flatten (Flatten)           (None, 1152)              0         \n",
      "                                                                 \n",
      " dense (Dense)               (None, 128)               147584    \n",
      "                                                                 \n",
      " dense_1 (Dense)             (None, 1)                 129       \n",
      "                                                                 \n",
      "=================================================================\n",
      "Total params: 204,929\n",
      "Trainable params: 204,929\n",
      "Non-trainable params: 0\n",
      "_________________________________________________________________\n"
     ]
    }
   ],
   "source": [
    "model.summary()"
   ]
  },
  {
   "cell_type": "code",
   "execution_count": 11,
   "metadata": {},
   "outputs": [],
   "source": [
    "def getFitness(model, x_train, y_train, x_test, y_test,epochs=2 , verbose=0):\n",
    "    model.compile(optimizer='adam',\n",
    "                  loss='binary_crossentropy',\n",
    "                  metrics=['accuracy'])\n",
    "    model.fit(x_train, y_train, epochs=epochs, verbose=verbose,validation_data=(x_test, y_test))\n",
    "    _, test_acc = model.evaluate(x_test, y_test , verbose=verbose)\n",
    "    return test_acc"
   ]
  },
  {
   "cell_type": "code",
   "execution_count": 12,
   "metadata": {},
   "outputs": [
    {
     "name": "stdout",
     "output_type": "stream",
     "text": [
      "Epoch 1/10\n"
     ]
    },
    {
     "name": "stderr",
     "output_type": "stream",
     "text": [
      "2023-03-03 16:59:32.238424: I tensorflow/compiler/xla/stream_executor/cuda/cuda_dnn.cc:428] Loaded cuDNN version 8700\n",
      "2023-03-03 16:59:32.623974: I tensorflow/compiler/xla/service/service.cc:173] XLA service 0x7f8418b9f1a0 initialized for platform CUDA (this does not guarantee that XLA will be used). Devices:\n",
      "2023-03-03 16:59:32.624274: I tensorflow/compiler/xla/service/service.cc:181]   StreamExecutor device (0): Tesla V100-SXM2-16GB, Compute Capability 7.0\n",
      "2023-03-03 16:59:32.631253: I tensorflow/compiler/mlir/tensorflow/utils/dump_mlir_util.cc:268] disabling MLIR crash reproducer, set env var `MLIR_CRASH_REPRODUCER_DIRECTORY` to enable.\n",
      "2023-03-03 16:59:32.853651: I tensorflow/compiler/jit/xla_compilation_cache.cc:480] Compiled cluster using XLA!  This line is logged at most once for the lifetime of the process.\n"
     ]
    },
    {
     "name": "stdout",
     "output_type": "stream",
     "text": [
      "324/324 [==============================] - 9s 15ms/step - loss: 0.0517 - accuracy: 0.9818 - val_loss: 0.0927 - val_accuracy: 0.9690\n",
      "Epoch 2/10\n",
      "324/324 [==============================] - 4s 11ms/step - loss: 0.0359 - accuracy: 0.9868 - val_loss: 0.0616 - val_accuracy: 0.9780\n",
      "Epoch 3/10\n",
      "324/324 [==============================] - 4s 11ms/step - loss: 0.0353 - accuracy: 0.9871 - val_loss: 0.0500 - val_accuracy: 0.9826\n",
      "Epoch 4/10\n",
      "324/324 [==============================] - 3s 10ms/step - loss: 0.0268 - accuracy: 0.9914 - val_loss: 0.0475 - val_accuracy: 0.9852\n",
      "Epoch 5/10\n",
      "324/324 [==============================] - 3s 11ms/step - loss: 0.0169 - accuracy: 0.9946 - val_loss: 0.0493 - val_accuracy: 0.9858\n",
      "Epoch 6/10\n",
      "324/324 [==============================] - 4s 11ms/step - loss: 0.0200 - accuracy: 0.9919 - val_loss: 0.1039 - val_accuracy: 0.9696\n",
      "Epoch 7/10\n",
      "324/324 [==============================] - 3s 11ms/step - loss: 0.0209 - accuracy: 0.9924 - val_loss: 0.0700 - val_accuracy: 0.9789\n",
      "Epoch 8/10\n",
      "324/324 [==============================] - 4s 11ms/step - loss: 0.0111 - accuracy: 0.9958 - val_loss: 0.0648 - val_accuracy: 0.9849\n",
      "Epoch 9/10\n",
      "324/324 [==============================] - 3s 10ms/step - loss: 0.0183 - accuracy: 0.9927 - val_loss: 0.0738 - val_accuracy: 0.9797\n",
      "Epoch 10/10\n",
      "324/324 [==============================] - 3s 11ms/step - loss: 0.0165 - accuracy: 0.9930 - val_loss: 0.0679 - val_accuracy: 0.9829\n",
      "108/108 [==============================] - 1s 5ms/step - loss: 0.0679 - accuracy: 0.9829\n",
      "INFO: ORIGINAL ACCURACY  0.9829084873199463\n"
     ]
    }
   ],
   "source": [
    "print(\"INFO: ORIGINAL ACCURACY \" , getFitness(model,x_train, y_train, x_test, y_test, epochs=10 , verbose=1))"
   ]
  },
  {
   "cell_type": "code",
   "execution_count": 13,
   "metadata": {},
   "outputs": [],
   "source": [
    "import chromosomes as ch"
   ]
  },
  {
   "cell_type": "code",
   "execution_count": 14,
   "metadata": {},
   "outputs": [],
   "source": [
    "chromosomes = ch.gen_chromosomes(model, 100)"
   ]
  },
  {
   "cell_type": "code",
   "execution_count": 15,
   "metadata": {},
   "outputs": [
    {
     "data": {
      "text/plain": [
       "(100, 256)"
      ]
     },
     "execution_count": 15,
     "metadata": {},
     "output_type": "execute_result"
    }
   ],
   "source": [
    "np.array(chromosomes).shape"
   ]
  },
  {
   "cell_type": "code",
   "execution_count": 20,
   "metadata": {},
   "outputs": [
    {
     "name": "stdout",
     "output_type": "stream",
     "text": [
      "INFO: BREEDING CHROMOSOMES\n"
     ]
    }
   ],
   "source": [
    "\n",
    "print(\"INFO: BREEDING CHROMOSOMES\")\n",
    "def breed(chromosomes,x_train, y_train, x_test, y_test):\n",
    "    new_chromosomes = []\n",
    "    new_fitness = []\n",
    "    for i in range(1):\n",
    "        print(\"Breeding for {}th time\".format(i+1))\n",
    "        # randomly select 2 chromosomes\n",
    "        c1 = random.choice(chromosomes)\n",
    "        c2 = random.choice(chromosomes)\n",
    "        # randomly select a crossover point\n",
    "        crossover_point = random.randint(0, 27)\n",
    "        # create a new chromosome by combining the 2 chromosomes\n",
    "        new_chromosome_1 = c1[:crossover_point] + c2[crossover_point:]\n",
    "        new_chromosome_2 = c2[:crossover_point] + c1[crossover_point:]\n",
    "        # calculate the fitness of old and new chromosomes\n",
    "        model1 = gsm.genSubModel(c1, model)\n",
    "        model2 = gsm.genSubModel(c2, model)\n",
    "        model3 = gsm.genSubModel(new_chromosome_1, model)\n",
    "        model4 = gsm.genSubModel(new_chromosome_2, model)\n",
    "        fitness1 = fitness.getFitness(model1, x_train, y_train, x_test, y_test)\n",
    "        if(fitness1 < 0.8):\n",
    "            print(\"Breaking because of less acuracy\")\n",
    "            continue\n",
    "        fitness2 = fitness.getFitness(model2, x_train, y_train, x_test, y_test)\n",
    "        if(fitness2 < 0.8):\n",
    "            print(\"Breaking because of less acuracy\")\n",
    "            continue\n",
    "        fitness3 = fitness.getFitness(model3, x_train, y_train, x_test, y_test)\n",
    "        if(fitness3 < 0.8):\n",
    "            print(\"Breaking because of less acuracy\")\n",
    "            continue\n",
    "        fitness4 = fitness.getFitness(model4, x_train, y_train, x_test, y_test)\n",
    "        if(fitness4 < 0.8):\n",
    "            print(\"Breaking because of less acuracy\")\n",
    "            continue\n",
    "        # select the best 2 chromosomes\n",
    "        fitnesses = [fitness1, fitness2, fitness3, fitness4]\n",
    "        best_chromosomes = [c1, c2, new_chromosome_1, new_chromosome_2]\n",
    "        best_chromosomes = [x for _, x in sorted(zip(fitnesses, best_chromosomes), reverse=True)]\n",
    "        new_chromosomes.append(best_chromosomes[0])\n",
    "        new_chromosomes.append(best_chromosomes[1])\n",
    "        new_fitness.append(fitnesses[0])\n",
    "        new_fitness.append(fitnesses[1])\n",
    "\n",
    "    return new_chromosomes, new_fitness"
   ]
  },
  {
   "cell_type": "code",
   "execution_count": 21,
   "metadata": {},
   "outputs": [],
   "source": [
    "import numpy as np"
   ]
  },
  {
   "cell_type": "code",
   "execution_count": 22,
   "metadata": {},
   "outputs": [
    {
     "name": "stdout",
     "output_type": "stream",
     "text": [
      "Breeding for 1th time\n"
     ]
    }
   ],
   "source": [
    "new_chromosomes, new_fitness = breed(chromosomes, x_train, y_train, x_test, y_test)\n"
   ]
  },
  {
   "cell_type": "code",
   "execution_count": 24,
   "metadata": {},
   "outputs": [
    {
     "data": {
      "text/plain": [
       "2"
      ]
     },
     "execution_count": 24,
     "metadata": {},
     "output_type": "execute_result"
    }
   ],
   "source": [
    "len(new_chromosomes)"
   ]
  },
  {
   "cell_type": "code",
   "execution_count": 25,
   "metadata": {},
   "outputs": [
    {
     "data": {
      "text/plain": [
       "[0.9701622128486633, 0.9632097482681274]"
      ]
     },
     "execution_count": 25,
     "metadata": {},
     "output_type": "execute_result"
    }
   ],
   "source": [
    "new_fitness"
   ]
  },
  {
   "cell_type": "code",
   "execution_count": null,
   "metadata": {},
   "outputs": [],
   "source": []
  }
 ],
 "metadata": {
  "kernelspec": {
   "display_name": "Python 3 (ipykernel)",
   "language": "python",
   "name": "python3"
  },
  "language_info": {
   "codemirror_mode": {
    "name": "ipython",
    "version": 3
   },
   "file_extension": ".py",
   "mimetype": "text/x-python",
   "name": "python",
   "nbconvert_exporter": "python",
   "pygments_lexer": "ipython3",
   "version": "3.8.10"
  },
  "orig_nbformat": 4
 },
 "nbformat": 4,
 "nbformat_minor": 2
}
