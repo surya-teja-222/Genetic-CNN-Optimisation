{
 "cells": [
  {
   "cell_type": "code",
   "execution_count": 1,
   "metadata": {},
   "outputs": [],
   "source": [
    "import numpy\n",
    "import pandas\n",
    "import json"
   ]
  },
  {
   "cell_type": "code",
   "execution_count": 2,
   "metadata": {},
   "outputs": [
    {
     "name": "stderr",
     "output_type": "stream",
     "text": [
      "2023-03-08 14:34:01.466043: I tensorflow/core/platform/cpu_feature_guard.cc:194] This TensorFlow binary is optimized with oneAPI Deep Neural Network Library (oneDNN) to use the following CPU instructions in performance-critical operations:  SSE3 SSE4.1 SSE4.2 AVX\n",
      "To enable them in other operations, rebuild TensorFlow with the appropriate compiler flags.\n"
     ]
    }
   ],
   "source": [
    "import tensorflow as tf\n",
    "from tensorflow import keras"
   ]
  },
  {
   "cell_type": "code",
   "execution_count": 27,
   "metadata": {},
   "outputs": [],
   "source": [
    "chromosomes = None\n",
    "with open('./chromosomes/new_cromosomes_mutated.json') as f:\n",
    "    chromosomes = json.load(f)"
   ]
  },
  {
   "cell_type": "code",
   "execution_count": 28,
   "metadata": {},
   "outputs": [
    {
     "data": {
      "text/plain": [
       "[0.9643282566444492]"
      ]
     },
     "execution_count": 28,
     "metadata": {},
     "output_type": "execute_result"
    }
   ],
   "source": [
    "chromosomes['0'][1:]"
   ]
  },
  {
   "cell_type": "code",
   "execution_count": 29,
   "metadata": {},
   "outputs": [],
   "source": [
    "for key, value in chromosomes.items():\n",
    "    chromosomes[key].append(chromosomes[key][0].count(0))\n",
    "    chromosomes[key].append(chromosomes[key][0].count(1))\n",
    "    chromosomes[key][1] = chromosomes[key][1]*100"
   ]
  },
  {
   "cell_type": "code",
   "execution_count": 30,
   "metadata": {},
   "outputs": [],
   "source": [
    "# sort chromosomes by fitness\n",
    "chromosomes = sorted(chromosomes.items(), key=lambda x: x[1][1], reverse=True)"
   ]
  },
  {
   "cell_type": "code",
   "execution_count": 31,
   "metadata": {},
   "outputs": [
    {
     "name": "stdout",
     "output_type": "stream",
     "text": [
      "[96.63110405880715, 77, 179]\n",
      "[96.43282566444492, 67, 189]\n",
      "[96.34711592432451, 85, 171]\n",
      "[96.24212905072969, 65, 191]\n",
      "[96.24025790304252, 65, 191]\n",
      "[96.23847725438114, 79, 177]\n",
      "[96.21960354967212, 68, 188]\n",
      "[96.20224535149795, 69, 187]\n",
      "[96.18703994023974, 81, 175]\n",
      "[96.1514654510854, 74, 182]\n",
      "[96.14693161117938, 73, 183]\n",
      "[96.1098043893851, 77, 179]\n",
      "[96.0947615998157, 79, 177]\n",
      "[96.07053117141272, 67, 189]\n",
      "[96.06743117908, 77, 179]\n",
      "[96.05477210840561, 73, 183]\n",
      "[96.0405600895281, 75, 181]\n",
      "[96.00489249388437, 78, 178]\n",
      "[95.97066229005314, 76, 180]\n",
      "[95.97066229005314, 77, 179]\n",
      "[95.9516417919774, 81, 175]\n",
      "[95.94824326550331, 76, 180]\n",
      "[95.94619444958575, 82, 174]\n",
      "[95.94326629815222, 71, 185]\n",
      "[95.94326629815222, 83, 173]\n",
      "[95.93709738583193, 68, 188]\n",
      "[95.90782066914574, 67, 189]\n",
      "[95.8627424912197, 68, 188]\n",
      "[95.86038290382174, 78, 178]\n",
      "[95.85299224616521, 67, 189]\n",
      "[95.82149031952397, 68, 188]\n",
      "[95.78890614157756, 69, 187]\n",
      "[95.78125674950405, 75, 181]\n",
      "[95.72981427970463, 71, 185]\n",
      "[95.71679582348634, 83, 173]\n",
      "[95.70687457493251, 71, 185]\n",
      "[95.70617112988413, 79, 177]\n",
      "[95.69777905338434, 72, 184]\n",
      "[95.69079971749031, 66, 190]\n",
      "[95.63397950300474, 76, 180]\n",
      "[95.62070027846164, 68, 188]\n",
      "[95.61620606642595, 71, 185]\n",
      "[95.60905660456774, 73, 183]\n",
      "[95.60251410738316, 83, 173]\n",
      "[95.58914315855091, 82, 174]\n",
      "[95.58664435740249, 80, 176]\n",
      "[95.58652417851424, 66, 190]\n",
      "[95.5743108367333, 84, 172]\n",
      "[95.55446625430872, 80, 176]\n",
      "[95.54035557043608, 75, 181]\n",
      "[95.54007399862967, 73, 183]\n",
      "[95.5347366115833, 67, 189]\n",
      "[95.52835460789859, 69, 187]\n",
      "[95.49989910607714, 75, 181]\n",
      "[95.49539929566907, 71, 185]\n",
      "[95.4660799622579, 81, 175]\n",
      "[95.45381307376633, 68, 188]\n",
      "[95.43790810313682, 82, 174]\n",
      "[95.41330511017671, 83, 173]\n",
      "[95.39924384543554, 80, 176]\n",
      "[95.39209564244014, 78, 178]\n",
      "[95.38616068807451, 69, 187]\n",
      "[95.37403303091072, 72, 184]\n",
      "[95.35251010590832, 81, 175]\n",
      "[95.33762725918143, 86, 170]\n",
      "[95.3322404210395, 79, 177]\n",
      "[95.31191961735284, 69, 187]\n",
      "[95.30586846762046, 91, 165]\n",
      "[95.26101934736371, 78, 178]\n",
      "[95.20105587966358, 73, 183]\n",
      "[95.17975576677723, 71, 185]\n",
      "[95.0837050820744, 75, 181]\n",
      "[94.9888455457069, 80, 176]\n",
      "[94.93616658813107, 82, 174]\n",
      "[94.8959024711068, 82, 174]\n",
      "[94.89209489921787, 72, 184]\n",
      "[94.70055303530087, 82, 174]\n",
      "[94.50451390595133, 68, 188]\n",
      "[93.90341811092343, 75, 181]\n",
      "[93.89438319198953, 82, 174]\n"
     ]
    }
   ],
   "source": [
    "for key, value in chromosomes:\n",
    "    print(value[1:])"
   ]
  },
  {
   "cell_type": "code",
   "execution_count": 38,
   "metadata": {},
   "outputs": [],
   "source": [
    "import generate_sub_model as gsm"
   ]
  },
  {
   "cell_type": "code",
   "execution_count": 39,
   "metadata": {},
   "outputs": [
    {
     "name": "stderr",
     "output_type": "stream",
     "text": [
      "2023-03-08 14:43:46.286652: I tensorflow/core/platform/cpu_feature_guard.cc:194] This TensorFlow binary is optimized with oneAPI Deep Neural Network Library (oneDNN) to use the following CPU instructions in performance-critical operations:  SSE3 SSE4.1 SSE4.2 AVX\n",
      "To enable them in other operations, rebuild TensorFlow with the appropriate compiler flags.\n",
      "2023-03-08 14:43:46.427892: I tensorflow/core/common_runtime/gpu/gpu_device.cc:1621] Created device /job:localhost/replica:0/task:0/device:GPU:0 with 14786 MB memory:  -> device: 0, name: Tesla V100-SXM2-16GB, pci bus id: 0000:8a:00.0, compute capability: 7.0\n"
     ]
    }
   ],
   "source": [
    "model = keras.models.load_model('./models/base_model.h5')"
   ]
  },
  {
   "cell_type": "code",
   "execution_count": 40,
   "metadata": {},
   "outputs": [],
   "source": [
    "new_model = gsm.genSubModel(chromosomes[0][1][0], model)"
   ]
  },
  {
   "cell_type": "code",
   "execution_count": 41,
   "metadata": {},
   "outputs": [],
   "source": [
    "from test_train_data import x_train, y_train, x_test, y_test"
   ]
  },
  {
   "cell_type": "code",
   "execution_count": 42,
   "metadata": {},
   "outputs": [],
   "source": [
    "new_model.compile(optimizer='adam',\n",
    "                    loss='binary_crossentropy', metrics=['accuracy', 'Precision'])"
   ]
  },
  {
   "cell_type": "code",
   "execution_count": 43,
   "metadata": {},
   "outputs": [
    {
     "name": "stdout",
     "output_type": "stream",
     "text": [
      "Epoch 1/15\n"
     ]
    },
    {
     "name": "stderr",
     "output_type": "stream",
     "text": [
      "2023-03-08 14:46:18.587294: I tensorflow/compiler/xla/stream_executor/cuda/cuda_dnn.cc:428] Loaded cuDNN version 8700\n",
      "2023-03-08 14:46:18.818356: I tensorflow/compiler/xla/service/service.cc:173] XLA service 0x7fced899b6b0 initialized for platform CUDA (this does not guarantee that XLA will be used). Devices:\n",
      "2023-03-08 14:46:18.818406: I tensorflow/compiler/xla/service/service.cc:181]   StreamExecutor device (0): Tesla V100-SXM2-16GB, Compute Capability 7.0\n",
      "2023-03-08 14:46:18.825024: I tensorflow/compiler/mlir/tensorflow/utils/dump_mlir_util.cc:268] disabling MLIR crash reproducer, set env var `MLIR_CRASH_REPRODUCER_DIRECTORY` to enable.\n",
      "2023-03-08 14:46:18.957397: I tensorflow/compiler/jit/xla_compilation_cache.cc:480] Compiled cluster using XLA!  This line is logged at most once for the lifetime of the process.\n"
     ]
    },
    {
     "name": "stdout",
     "output_type": "stream",
     "text": [
      "324/324 [==============================] - 7s 12ms/step - loss: 0.1785 - accuracy: 0.9291 - precision: 0.8728 - val_loss: 0.1160 - val_accuracy: 0.9577 - val_precision: 0.9216\n",
      "Epoch 2/15\n",
      "324/324 [==============================] - 3s 8ms/step - loss: 0.0884 - accuracy: 0.9685 - precision: 0.9390 - val_loss: 0.1140 - val_accuracy: 0.9513 - val_precision: 0.8658\n",
      "Epoch 3/15\n",
      "324/324 [==============================] - 3s 8ms/step - loss: 0.0566 - accuracy: 0.9794 - precision: 0.9590 - val_loss: 0.0833 - val_accuracy: 0.9722 - val_precision: 0.9388\n",
      "Epoch 4/15\n",
      "324/324 [==============================] - 3s 8ms/step - loss: 0.0404 - accuracy: 0.9861 - precision: 0.9741 - val_loss: 0.0865 - val_accuracy: 0.9687 - val_precision: 0.9246\n",
      "Epoch 5/15\n",
      "324/324 [==============================] - 3s 8ms/step - loss: 0.0341 - accuracy: 0.9888 - precision: 0.9769 - val_loss: 0.1014 - val_accuracy: 0.9687 - val_precision: 0.9685\n",
      "Epoch 6/15\n",
      "324/324 [==============================] - 3s 8ms/step - loss: 0.0292 - accuracy: 0.9896 - precision: 0.9780 - val_loss: 0.0854 - val_accuracy: 0.9745 - val_precision: 0.9723\n",
      "Epoch 7/15\n",
      "324/324 [==============================] - 3s 8ms/step - loss: 0.0260 - accuracy: 0.9904 - precision: 0.9831 - val_loss: 0.1406 - val_accuracy: 0.9539 - val_precision: 0.8725\n",
      "Epoch 8/15\n",
      "324/324 [==============================] - 3s 8ms/step - loss: 0.0244 - accuracy: 0.9911 - precision: 0.9821 - val_loss: 0.1112 - val_accuracy: 0.9719 - val_precision: 0.9774\n",
      "Epoch 9/15\n",
      "324/324 [==============================] - 3s 8ms/step - loss: 0.0131 - accuracy: 0.9958 - precision: 0.9914 - val_loss: 0.0977 - val_accuracy: 0.9699 - val_precision: 0.9215\n",
      "Epoch 10/15\n",
      "324/324 [==============================] - 3s 8ms/step - loss: 0.0105 - accuracy: 0.9965 - precision: 0.9936 - val_loss: 0.1043 - val_accuracy: 0.9733 - val_precision: 0.9464\n",
      "Epoch 11/15\n",
      "324/324 [==============================] - 3s 8ms/step - loss: 0.0221 - accuracy: 0.9918 - precision: 0.9850 - val_loss: 0.1014 - val_accuracy: 0.9716 - val_precision: 0.9538\n",
      "Epoch 12/15\n",
      "324/324 [==============================] - 3s 8ms/step - loss: 0.0122 - accuracy: 0.9958 - precision: 0.9925 - val_loss: 0.1148 - val_accuracy: 0.9728 - val_precision: 0.9520\n",
      "Epoch 13/15\n",
      "324/324 [==============================] - 3s 8ms/step - loss: 0.0187 - accuracy: 0.9924 - precision: 0.9861 - val_loss: 0.1082 - val_accuracy: 0.9731 - val_precision: 0.9609\n",
      "Epoch 14/15\n",
      "324/324 [==============================] - 3s 8ms/step - loss: 0.0159 - accuracy: 0.9939 - precision: 0.9895 - val_loss: 0.1404 - val_accuracy: 0.9667 - val_precision: 0.9164\n",
      "Epoch 15/15\n",
      "324/324 [==============================] - 3s 8ms/step - loss: 0.0127 - accuracy: 0.9952 - precision: 0.9903 - val_loss: 0.1297 - val_accuracy: 0.9731 - val_precision: 0.9732\n"
     ]
    },
    {
     "data": {
      "text/plain": [
       "<keras.callbacks.History at 0x7fd0bc037430>"
      ]
     },
     "execution_count": 43,
     "metadata": {},
     "output_type": "execute_result"
    }
   ],
   "source": [
    "new_model.fit(x_train, y_train, epochs=15, validation_data=(x_test, y_test))"
   ]
  },
  {
   "cell_type": "code",
   "execution_count": 44,
   "metadata": {},
   "outputs": [
    {
     "data": {
      "text/plain": [
       "[0.12966877222061157, 0.9730591177940369, 0.9732441306114197]"
      ]
     },
     "execution_count": 44,
     "metadata": {},
     "output_type": "execute_result"
    }
   ],
   "source": [
    "new_model.evaluate(x_test, y_test, verbose=0)"
   ]
  },
  {
   "cell_type": "code",
   "execution_count": 49,
   "metadata": {},
   "outputs": [],
   "source": [
    "# save the model\n",
    "new_model.save('./models/new_model_best_acc.h5')"
   ]
  },
  {
   "cell_type": "code",
   "execution_count": 47,
   "metadata": {},
   "outputs": [],
   "source": [
    "# sort chromosomes by fitness\n",
    "chromosomes = sorted(chromosomes, key=lambda x: x[1][2], reverse=True)"
   ]
  },
  {
   "cell_type": "code",
   "execution_count": 48,
   "metadata": {},
   "outputs": [
    {
     "name": "stdout",
     "output_type": "stream",
     "text": [
      "[95.30586846762046, 91, 165]\n",
      "[95.33762725918143, 86, 170]\n",
      "[96.34711592432451, 85, 171]\n",
      "[95.5743108367333, 84, 172]\n",
      "[95.94326629815222, 83, 173]\n",
      "[95.71679582348634, 83, 173]\n",
      "[95.60251410738316, 83, 173]\n",
      "[95.41330511017671, 83, 173]\n",
      "[95.94619444958575, 82, 174]\n",
      "[95.58914315855091, 82, 174]\n"
     ]
    }
   ],
   "source": [
    "for i in chromosomes[:10]:\n",
    "    print(i[1][1:])"
   ]
  },
  {
   "cell_type": "code",
   "execution_count": 50,
   "metadata": {},
   "outputs": [],
   "source": [
    "new_model = gsm.genSubModel(chromosomes[0][1][0], model)"
   ]
  },
  {
   "cell_type": "code",
   "execution_count": 51,
   "metadata": {},
   "outputs": [],
   "source": [
    "new_model.compile(optimizer='adam',\n",
    "                    loss='binary_crossentropy', metrics=['accuracy', 'Precision'])"
   ]
  },
  {
   "cell_type": "code",
   "execution_count": 52,
   "metadata": {},
   "outputs": [
    {
     "name": "stdout",
     "output_type": "stream",
     "text": [
      "Epoch 1/15\n",
      "324/324 [==============================] - 6s 12ms/step - loss: 0.1997 - accuracy: 0.9266 - precision: 0.8695 - val_loss: 0.2111 - val_accuracy: 0.9203 - val_precision: 0.9799\n",
      "Epoch 2/15\n",
      "324/324 [==============================] - 3s 8ms/step - loss: 0.1115 - accuracy: 0.9608 - precision: 0.9228 - val_loss: 0.1320 - val_accuracy: 0.9594 - val_precision: 0.9707\n",
      "Epoch 3/15\n",
      "324/324 [==============================] - 3s 8ms/step - loss: 0.0829 - accuracy: 0.9716 - precision: 0.9444 - val_loss: 0.1128 - val_accuracy: 0.9629 - val_precision: 0.9522\n",
      "Epoch 4/15\n",
      "324/324 [==============================] - 3s 8ms/step - loss: 0.0617 - accuracy: 0.9787 - precision: 0.9582 - val_loss: 0.1029 - val_accuracy: 0.9606 - val_precision: 0.9207\n",
      "Epoch 5/15\n",
      "324/324 [==============================] - 3s 8ms/step - loss: 0.0521 - accuracy: 0.9822 - precision: 0.9632 - val_loss: 0.1020 - val_accuracy: 0.9670 - val_precision: 0.9490\n",
      "Epoch 6/15\n",
      "324/324 [==============================] - 3s 8ms/step - loss: 0.0397 - accuracy: 0.9848 - precision: 0.9687 - val_loss: 0.1060 - val_accuracy: 0.9673 - val_precision: 0.9570\n",
      "Epoch 7/15\n",
      "324/324 [==============================] - 3s 8ms/step - loss: 0.0365 - accuracy: 0.9868 - precision: 0.9760 - val_loss: 0.1224 - val_accuracy: 0.9563 - val_precision: 0.8928\n",
      "Epoch 8/15\n",
      "324/324 [==============================] - 3s 8ms/step - loss: 0.0319 - accuracy: 0.9876 - precision: 0.9768 - val_loss: 0.1353 - val_accuracy: 0.9644 - val_precision: 0.9505\n",
      "Epoch 9/15\n",
      "324/324 [==============================] - 3s 8ms/step - loss: 0.0276 - accuracy: 0.9900 - precision: 0.9813 - val_loss: 0.1302 - val_accuracy: 0.9664 - val_precision: 0.9651\n",
      "Epoch 10/15\n",
      "324/324 [==============================] - 3s 8ms/step - loss: 0.0209 - accuracy: 0.9930 - precision: 0.9865 - val_loss: 0.1366 - val_accuracy: 0.9644 - val_precision: 0.9701\n",
      "Epoch 11/15\n",
      "324/324 [==============================] - 3s 8ms/step - loss: 0.0146 - accuracy: 0.9954 - precision: 0.9903 - val_loss: 0.1227 - val_accuracy: 0.9681 - val_precision: 0.9571\n",
      "Epoch 12/15\n",
      "324/324 [==============================] - 3s 8ms/step - loss: 0.0180 - accuracy: 0.9933 - precision: 0.9876 - val_loss: 0.1688 - val_accuracy: 0.9603 - val_precision: 0.9548\n",
      "Epoch 13/15\n",
      "324/324 [==============================] - 3s 8ms/step - loss: 0.0144 - accuracy: 0.9948 - precision: 0.9903 - val_loss: 0.1552 - val_accuracy: 0.9681 - val_precision: 0.9695\n",
      "Epoch 14/15\n",
      "324/324 [==============================] - 3s 8ms/step - loss: 0.0067 - accuracy: 0.9980 - precision: 0.9959 - val_loss: 0.1747 - val_accuracy: 0.9670 - val_precision: 0.9510\n",
      "Epoch 15/15\n",
      "324/324 [==============================] - 3s 8ms/step - loss: 0.0226 - accuracy: 0.9923 - precision: 0.9850 - val_loss: 0.1580 - val_accuracy: 0.9652 - val_precision: 0.9628\n"
     ]
    },
    {
     "data": {
      "text/plain": [
       "<keras.callbacks.History at 0x7fcff408ea90>"
      ]
     },
     "execution_count": 52,
     "metadata": {},
     "output_type": "execute_result"
    }
   ],
   "source": [
    "new_model.fit(x_train, y_train, epochs=15, validation_data=(x_test, y_test))"
   ]
  },
  {
   "cell_type": "code",
   "execution_count": 53,
   "metadata": {},
   "outputs": [
    {
     "data": {
      "text/plain": [
       "[0.15797297656536102, 0.965237557888031, 0.962837815284729]"
      ]
     },
     "execution_count": 53,
     "metadata": {},
     "output_type": "execute_result"
    }
   ],
   "source": [
    "new_model.evaluate(x_test, y_test, verbose=0)"
   ]
  },
  {
   "cell_type": "code",
   "execution_count": 54,
   "metadata": {},
   "outputs": [],
   "source": [
    "# save the model\n",
    "new_model.save('./models/new_model_best_compression.h5')"
   ]
  },
  {
   "cell_type": "code",
   "execution_count": null,
   "metadata": {},
   "outputs": [],
   "source": []
  }
 ],
 "metadata": {
  "kernelspec": {
   "display_name": "Python 3 (ipykernel)",
   "language": "python",
   "name": "python3"
  },
  "language_info": {
   "codemirror_mode": {
    "name": "ipython",
    "version": 3
   },
   "file_extension": ".py",
   "mimetype": "text/x-python",
   "name": "python",
   "nbconvert_exporter": "python",
   "pygments_lexer": "ipython3",
   "version": "3.8.10"
  },
  "orig_nbformat": 4
 },
 "nbformat": 4,
 "nbformat_minor": 2
}
